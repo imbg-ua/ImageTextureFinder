{
 "cells": [
  {
   "cell_type": "code",
   "execution_count": 1,
   "id": "09f22d5f-7c26-4d9b-9ce8-443e8b70e0c2",
   "metadata": {},
   "outputs": [],
   "source": [
    "from common import Environment\n",
    "from entrypoint import run"
   ]
  },
  {
   "cell_type": "code",
   "execution_count": 2,
   "id": "190d3008-cf63-497a-bee6-adefd96644a9",
   "metadata": {},
   "outputs": [],
   "source": [
    "env1 = Environment(\n",
    "    stages=[5],\n",
    "    imgname=\"img1.jpg\"\n",
    ")"
   ]
  },
  {
   "cell_type": "code",
   "execution_count": null,
   "id": "6aca5c6d-f520-46a4-9f50-c111594e5f60",
   "metadata": {},
   "outputs": [
    {
     "name": "stderr",
     "output_type": "stream",
     "text": [
      "INFO:root:Henlo\n",
      "INFO:root:Environment(indir='/lustre/scratch126/casm/team268im/mk43/IMBG_ImageTextureFinder/data/in', outdir='/lustre/scratch126/casm/team268im/mk43/IMBG_ImageTextureFinder/data/out', nthreads=8, nradii=15, patchsize=100, stages=[5], imgname='img1.jpg', final_target_size=1, partial_upscale=10)\n",
      "INFO:root:Environment(indir='/lustre/scratch126/casm/team268im/mk43/IMBG_ImageTextureFinder/data/in', outdir='/lustre/scratch126/casm/team268im/mk43/IMBG_ImageTextureFinder/data/out', nthreads=8, nradii=15, patchsize=100, stages=[5], imgname='img1.jpg', final_target_size=1, partial_upscale=10)\n",
      "INFO:root:prerequisites: Got stages [5]\n",
      "INFO:root:Env ok.\n",
      "INFO:root:STAGE 5 BEGIN\n",
      "INFO:root:load_napari: begin. napari version = 0.4.17\n",
      "WARNING: could not connect to display :1.0\n",
      "WARNING:vispy:could not connect to display :1.0\n",
      "WARNING: Could not load the Qt platform plugin \"xcb\" in \"\" even though it was found.\n",
      "WARNING:vispy:Could not load the Qt platform plugin \"xcb\" in \"\" even though it was found.\n",
      "WARNING: This application failed to start because no Qt platform plugin could be initialized. Reinstalling the application may fix this problem.\n",
      "\n",
      "Available platform plugins are: eglfs, linuxfb, minimal, minimalegl, offscreen, vnc, wayland-egl, wayland, wayland-xcomposite-egl, wayland-xcomposite-glx, webgl, xcb.\n",
      "\n"
     ]
    }
   ],
   "source": [
    "run(env1)"
   ]
  },
  {
   "cell_type": "code",
   "execution_count": null,
   "id": "14f66e0a-9d3d-4ac5-9fd9-0822dd1abf15",
   "metadata": {},
   "outputs": [],
   "source": []
  }
 ],
 "metadata": {
  "kernelspec": {
   "display_name": "lbp",
   "language": "python",
   "name": "lbp"
  },
  "language_info": {
   "codemirror_mode": {
    "name": "ipython",
    "version": 3
   },
   "file_extension": ".py",
   "mimetype": "text/x-python",
   "name": "python",
   "nbconvert_exporter": "python",
   "pygments_lexer": "ipython3",
   "version": "3.9.10"
  }
 },
 "nbformat": 4,
 "nbformat_minor": 5
}
