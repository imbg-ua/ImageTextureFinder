{
 "cells": [
  {
   "cell_type": "code",
   "execution_count": 1,
   "metadata": {},
   "outputs": [],
   "source": [
    "import numpy as np\n",
    "from PIL import Image\n",
    "from skimage.io import imread\n",
    "\n",
    "import fastlbp_baseline_imbg as fbi\n",
    "from fastlbp_baseline_imbg.common import get_radii, get_npoints_for_radius"
   ]
  },
  {
   "cell_type": "markdown",
   "metadata": {},
   "source": [
    "Default directory structure:\n",
    "```\n",
    "./\n",
    "- data/\n",
    "  - in/\n",
    "    - input images here\n",
    "  - out/\n",
    "    '1_lbp_output',\n",
    "    '2_patches',\n",
    "    '3_umap',\n",
    "    '4_clustering'\n",
    "```\n"
   ]
  },
  {
   "cell_type": "code",
   "execution_count": 27,
   "metadata": {},
   "outputs": [
    {
     "data": {
      "text/plain": [
       "Environment(indir='/app/src/data/in', outdir='/app/src/data/out', nthreads=8, nradii=4, patchsize=50, stages=[1, 2], imgname='img_L_400x400.jpg', final_target_size=1, partial_upscale=10)"
      ]
     },
     "execution_count": 27,
     "metadata": {},
     "output_type": "execute_result"
    }
   ],
   "source": [
    "params = fbi.Environment()\n",
    "params.nradii=4\n",
    "params.patchsize=50\n",
    "params.nthreads=8\n",
    "params.stages=[1,2]\n",
    "params.imgname=\"img_L_400x400.jpg\"\n",
    "\n",
    "params.indir = \"/app/src/data/in\"\n",
    "params.outdir = \"/app/src/data/out\"\n",
    "\n",
    "params"
   ]
  },
  {
   "cell_type": "code",
   "execution_count": 28,
   "metadata": {},
   "outputs": [
    {
     "name": "stderr",
     "output_type": "stream",
     "text": [
      "INFO:root:Henlo\n",
      "INFO:root:Environment(indir='/app/src/data/in', outdir='/app/src/data/out', nthreads=8, nradii=4, patchsize=50, stages=[1, 2], imgname='img_L_400x400.jpg', final_target_size=1, partial_upscale=10)\n",
      "INFO:root:Environment(indir='/app/src/data/in', outdir='/app/src/data/out', nthreads=8, nradii=4, patchsize=50, stages=[1, 2], imgname='img_L_400x400.jpg', final_target_size=1, partial_upscale=10)\n",
      "INFO:root:prerequisites: Got stages [1, 2]\n",
      "INFO:root:Environment(indir='/app/src/data/in', outdir='/app/src/data/out', nthreads=8, nradii=4, patchsize=50, stages=[1, 2], imgname='img_L_400x400.jpg', final_target_size=1, partial_upscale=10)\n",
      "INFO:root:Env ok.\n",
      "INFO:root:run_stages:\n",
      "INFO:root:Environment(indir='/app/src/data/in', outdir='/app/src/data/out', nthreads=8, nradii=4, patchsize=50, stages=[1, 2], imgname='img_L_400x400.jpg', final_target_size=1, partial_upscale=10)\n",
      "INFO:root:STAGE 1 BEGIN\n",
      "INFO:root:prepare_stage1_jobs: Searching for input files in '/app/src/data/in'.\n",
      "WARNING:root:prepare_stage1_jobs: File 'img_L_400x400.png' has an unsupported file extention\n",
      "INFO:root:prepare_stage1_jobs: Input files:\n",
      "img_L_400x400.jpg\n",
      "INFO:root:prepare_stage1_jobs: dtype is <class 'numpy.uint16'>\n",
      "INFO:root:Subfolder_exists\n",
      "True    12\n",
      "Name: count, dtype: int64\n",
      "INFO:root:Fpath_out_exists\n",
      "False    12\n",
      "Name: count, dtype: int64\n",
      "INFO:root:job list:\n",
      "INFO:root:            Filenames  channel           dims  radius  n_points   method    safe_infilename                                         Subfolder                           outfilename                                                                              Fpath_out  patchsize                 mydtype  Subfolder_exists  Fpath_out_exists\n",
      "0   img_L_400x400.jpg        0  (400, 400, 3)       1       7.0  uniform  img_L_400x400_jpg  /app/src/data/out/1_lbp_output/img_L_400x400_jpg   img_L_400x400_jpg_lbp_ch0_r1_n7.npy   /app/src/data/out/1_lbp_output/img_L_400x400_jpg/img_L_400x400_jpg_lbp_ch0_r1_n7.npy        100  <class 'numpy.uint16'>              True             False\n",
      "1   img_L_400x400.jpg        1  (400, 400, 3)       1       7.0  uniform  img_L_400x400_jpg  /app/src/data/out/1_lbp_output/img_L_400x400_jpg   img_L_400x400_jpg_lbp_ch1_r1_n7.npy   /app/src/data/out/1_lbp_output/img_L_400x400_jpg/img_L_400x400_jpg_lbp_ch1_r1_n7.npy        100  <class 'numpy.uint16'>              True             False\n",
      "2   img_L_400x400.jpg        2  (400, 400, 3)       1       7.0  uniform  img_L_400x400_jpg  /app/src/data/out/1_lbp_output/img_L_400x400_jpg   img_L_400x400_jpg_lbp_ch2_r1_n7.npy   /app/src/data/out/1_lbp_output/img_L_400x400_jpg/img_L_400x400_jpg_lbp_ch2_r1_n7.npy        100  <class 'numpy.uint16'>              True             False\n",
      "3   img_L_400x400.jpg        0  (400, 400, 3)       2      13.0  uniform  img_L_400x400_jpg  /app/src/data/out/1_lbp_output/img_L_400x400_jpg  img_L_400x400_jpg_lbp_ch0_r2_n13.npy  /app/src/data/out/1_lbp_output/img_L_400x400_jpg/img_L_400x400_jpg_lbp_ch0_r2_n13.npy        100  <class 'numpy.uint16'>              True             False\n",
      "4   img_L_400x400.jpg        1  (400, 400, 3)       2      13.0  uniform  img_L_400x400_jpg  /app/src/data/out/1_lbp_output/img_L_400x400_jpg  img_L_400x400_jpg_lbp_ch1_r2_n13.npy  /app/src/data/out/1_lbp_output/img_L_400x400_jpg/img_L_400x400_jpg_lbp_ch1_r2_n13.npy        100  <class 'numpy.uint16'>              True             False\n",
      "5   img_L_400x400.jpg        2  (400, 400, 3)       2      13.0  uniform  img_L_400x400_jpg  /app/src/data/out/1_lbp_output/img_L_400x400_jpg  img_L_400x400_jpg_lbp_ch2_r2_n13.npy  /app/src/data/out/1_lbp_output/img_L_400x400_jpg/img_L_400x400_jpg_lbp_ch2_r2_n13.npy        100  <class 'numpy.uint16'>              True             False\n",
      "6   img_L_400x400.jpg        0  (400, 400, 3)       3      19.0  uniform  img_L_400x400_jpg  /app/src/data/out/1_lbp_output/img_L_400x400_jpg  img_L_400x400_jpg_lbp_ch0_r3_n19.npy  /app/src/data/out/1_lbp_output/img_L_400x400_jpg/img_L_400x400_jpg_lbp_ch0_r3_n19.npy        100  <class 'numpy.uint16'>              True             False\n",
      "7   img_L_400x400.jpg        1  (400, 400, 3)       3      19.0  uniform  img_L_400x400_jpg  /app/src/data/out/1_lbp_output/img_L_400x400_jpg  img_L_400x400_jpg_lbp_ch1_r3_n19.npy  /app/src/data/out/1_lbp_output/img_L_400x400_jpg/img_L_400x400_jpg_lbp_ch1_r3_n19.npy        100  <class 'numpy.uint16'>              True             False\n",
      "8   img_L_400x400.jpg        2  (400, 400, 3)       3      19.0  uniform  img_L_400x400_jpg  /app/src/data/out/1_lbp_output/img_L_400x400_jpg  img_L_400x400_jpg_lbp_ch2_r3_n19.npy  /app/src/data/out/1_lbp_output/img_L_400x400_jpg/img_L_400x400_jpg_lbp_ch2_r3_n19.npy        100  <class 'numpy.uint16'>              True             False\n",
      "9   img_L_400x400.jpg        0  (400, 400, 3)       4      26.0  uniform  img_L_400x400_jpg  /app/src/data/out/1_lbp_output/img_L_400x400_jpg  img_L_400x400_jpg_lbp_ch0_r4_n26.npy  /app/src/data/out/1_lbp_output/img_L_400x400_jpg/img_L_400x400_jpg_lbp_ch0_r4_n26.npy        100  <class 'numpy.uint16'>              True             False\n",
      "10  img_L_400x400.jpg        1  (400, 400, 3)       4      26.0  uniform  img_L_400x400_jpg  /app/src/data/out/1_lbp_output/img_L_400x400_jpg  img_L_400x400_jpg_lbp_ch1_r4_n26.npy  /app/src/data/out/1_lbp_output/img_L_400x400_jpg/img_L_400x400_jpg_lbp_ch1_r4_n26.npy        100  <class 'numpy.uint16'>              True             False\n",
      "11  img_L_400x400.jpg        2  (400, 400, 3)       4      26.0  uniform  img_L_400x400_jpg  /app/src/data/out/1_lbp_output/img_L_400x400_jpg  img_L_400x400_jpg_lbp_ch2_r4_n26.npy  /app/src/data/out/1_lbp_output/img_L_400x400_jpg/img_L_400x400_jpg_lbp_ch2_r4_n26.npy        100  <class 'numpy.uint16'>              True             False\n",
      "INFO:root:pending jobs:\n",
      "img_L_400x400_jpg_lbp_ch0_r1_n7.npy\n",
      "img_L_400x400_jpg_lbp_ch1_r1_n7.npy\n",
      "img_L_400x400_jpg_lbp_ch2_r1_n7.npy\n",
      "img_L_400x400_jpg_lbp_ch0_r2_n13.npy\n",
      "img_L_400x400_jpg_lbp_ch1_r2_n13.npy\n",
      "img_L_400x400_jpg_lbp_ch2_r2_n13.npy\n",
      "img_L_400x400_jpg_lbp_ch0_r3_n19.npy\n",
      "img_L_400x400_jpg_lbp_ch1_r3_n19.npy\n",
      "img_L_400x400_jpg_lbp_ch2_r3_n19.npy\n",
      "img_L_400x400_jpg_lbp_ch0_r4_n26.npy\n",
      "img_L_400x400_jpg_lbp_ch1_r4_n26.npy\n",
      "img_L_400x400_jpg_lbp_ch2_r4_n26.npy\n",
      "INFO:root:lbp_process_all_images: Begin running all pending jobs (12).\n",
      "INFO:root:lbp_process_all_images: processing image 1/1. fname: img_L_400x400.jpg\n",
      "INFO:root:lbp_process_single_input_image: Begin processing 'img_L_400x400.jpg'\n"
     ]
    },
    {
     "data": {
      "application/vnd.jupyter.widget-view+json": {
       "model_id": "edb0b2cb469d47c8909529419e0e117a",
       "version_major": 2,
       "version_minor": 0
      },
      "text/plain": [
       "  0%|          | 0/12 [00:00<?, ?it/s]"
      ]
     },
     "metadata": {},
     "output_type": "display_data"
    },
    {
     "name": "stderr",
     "output_type": "stream",
     "text": [
      "INFO:root:apply_LBP_to_img: Done 'img_L_400x400_jpg_lbp_ch1_r3_n19.npy'\n",
      "INFO:root:apply_LBP_to_img: Done 'img_L_400x400_jpg_lbp_ch0_r2_n13.npy'\n",
      "INFO:root:apply_LBP_to_img: Done 'img_L_400x400_jpg_lbp_ch1_r1_n7.npy'\n",
      "INFO:root:apply_LBP_to_img: Done 'img_L_400x400_jpg_lbp_ch0_r1_n7.npy'\n",
      "INFO:root:apply_LBP_to_img: Done 'img_L_400x400_jpg_lbp_ch1_r2_n13.npy'\n",
      "INFO:root:apply_LBP_to_img: Done 'img_L_400x400_jpg_lbp_ch2_r2_n13.npy'\n",
      "INFO:root:apply_LBP_to_img: Done 'img_L_400x400_jpg_lbp_ch0_r3_n19.npy'\n",
      "INFO:root:apply_LBP_to_img: Done 'img_L_400x400_jpg_lbp_ch2_r1_n7.npy'\n",
      "INFO:root:apply_LBP_to_img: Done 'img_L_400x400_jpg_lbp_ch2_r3_n19.npy'\n",
      "INFO:root:apply_LBP_to_img: Done 'img_L_400x400_jpg_lbp_ch0_r4_n26.npy'\n",
      "INFO:root:apply_LBP_to_img: Done 'img_L_400x400_jpg_lbp_ch1_r4_n26.npy'\n",
      "INFO:root:apply_LBP_to_img: Done 'img_L_400x400_jpg_lbp_ch2_r4_n26.npy'\n",
      "INFO:root:lbp_process_single_input_image: End processing 'img_L_400x400.jpg'\n",
      "INFO:root:lbp_process_all_images: End running all pending jobs.\n",
      "INFO:root:STAGE 1 END. took 0:00:17.861782\n",
      "INFO:root:STAGE 2 BEGIN\n",
      "INFO:root:stage2: img_L_400x400_jpg (400*400): overall_number_of_patches = 8*8 = 64\n",
      "INFO:root:stage2_worker: begin. ('img_L_400x400.jpg', '/app/src/data/out/1_lbp_output/img_L_400x400_jpg', 0, 'img_L_400x400_jpg')\n",
      "INFO:root:stage2_worker: scanning \"/app/src/data/out/1_lbp_output/img_L_400x400_jpg\" for methods\n",
      "INFO:root:stage2_worker: found 12 methods. generated 219 method_list_cols\n",
      "INFO:root:stage2_worker: end. ('img_L_400x400.jpg', '/app/src/data/out/1_lbp_output/img_L_400x400_jpg', 0, 'img_L_400x400_jpg')\n",
      "INFO:root:stage2: ad.__version__ = 0.9.1\n",
      "INFO:root:stage2: saving results to /app/src/data/out/2_patches/img_L_400x400_jpg/img_L_400x400_jpg_LBP_X.npy...\n",
      "INFO:root:stage2: done saving results. took 0:00:00.015317\n",
      "INFO:root:stage2: saving metadata to /app/src/data/out/2_patches/img_L_400x400_jpg...\n",
      "INFO:root:stage2: done saving metadata. took 0:00:00.068093\n",
      "INFO:root:STAGE 2 END. took 0:00:00.230316\n",
      "INFO:root:Goodbye\n"
     ]
    }
   ],
   "source": [
    "fbi.run(params)"
   ]
  }
 ],
 "metadata": {
  "kernelspec": {
   "display_name": "Python 3 (ipykernel)",
   "language": "python",
   "name": "python3"
  },
  "language_info": {
   "codemirror_mode": {
    "name": "ipython",
    "version": 3
   },
   "file_extension": ".py",
   "mimetype": "text/x-python",
   "name": "python",
   "nbconvert_exporter": "python",
   "pygments_lexer": "ipython3",
   "version": "3.9.18"
  }
 },
 "nbformat": 4,
 "nbformat_minor": 2
}
