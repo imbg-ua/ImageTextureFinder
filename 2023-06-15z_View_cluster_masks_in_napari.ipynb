{
 "cells": [
  {
   "cell_type": "markdown",
   "id": "5cf415e2",
   "metadata": {},
   "source": [
    "# View sequence of clustering images"
   ]
  },
  {
   "cell_type": "code",
   "execution_count": 1,
   "id": "5584ee1f",
   "metadata": {},
   "outputs": [],
   "source": [
    "# Use the novnc Desktop in the other window\n",
    "import os\n",
    "os.environ['DISPLAY'] = ':1.0'\n",
    "#os.environ['NAPARI_ASYNC']='1'\n",
    "#os.environ['NAPARI_ASYNC']='1.0' #gives explicit error\n",
    "#del os.environ['NAPARI_ASYNC']\n",
    "#os.environ['NAPARI_OCTREE']='1'\n",
    "#del os.environ['NAPARI_OCTREE']\n",
    "# instantiate Qt GUI\n",
    "%gui qt5\n",
    "#os.environ"
   ]
  },
  {
   "cell_type": "code",
   "execution_count": 2,
   "id": "9ec160f9",
   "metadata": {},
   "outputs": [
    {
     "name": "stdout",
     "output_type": "stream",
     "text": [
      "0.4.17\n",
      "Loading Linux\n"
     ]
    }
   ],
   "source": [
    "import matplotlib.pyplot as plt\n",
    "import numpy as np\n",
    "import math\n",
    "from PIL import Image\n",
    "import cv2\n",
    "import skimage\n",
    "import tifffile as tf\n",
    "import os\n",
    "import pandas as pd\n",
    "import napari\n",
    "print(napari.__version__)\n",
    "from dask_image.imread import imread\n",
    "import dask.array as da\n",
    "import io\n",
    "\n",
    "import platform\n",
    "if platform.system() == 'Windows':\n",
    "    fileroot = 'X:/'\n",
    "    print('Loading Windows')\n",
    "if platform.system() == 'Linux':\n",
    "    fileroot = '/home/jovyan/'\n",
    "    print('Loading Linux')\n",
    "if False:\n",
    "    fileroot = '/home/ubuntu/Documents/'\n",
    "\n",
    "colors_new=['#0072b2','#d55e00','#009e73', '#cc79a7','#f0e442','#56b4e9']\n",
    "\n",
    "import sys\n",
    "sys.path.append(fileroot+'VU_TEX/Ben_utilities/')\n",
    "import useful_functions as uf\n",
    "import numba_funcs as nf\n",
    "sys.path.append(fileroot+'VU_TEX/git/large-condensed-tree/')"
   ]
  },
  {
   "cell_type": "code",
   "execution_count": 4,
   "id": "b04c4442",
   "metadata": {},
   "outputs": [],
   "source": [
    "from numba import njit\n",
    "from copy import deepcopy\n",
    "import matplotlib\n",
    "from matplotlib.colors import to_rgb, to_rgba\n",
    "from functools import partial\n",
    "from importlib import reload\n",
    "reload(nf)\n",
    "from tqdm import tqdm"
   ]
  },
  {
   "cell_type": "code",
   "execution_count": 5,
   "id": "88ef16b7",
   "metadata": {},
   "outputs": [],
   "source": [
    "from PIL import Image\n",
    "from skimage import color\n",
    "Image.MAX_IMAGE_PIXELS = 1000000000"
   ]
  },
  {
   "cell_type": "markdown",
   "id": "e6ed40d9",
   "metadata": {},
   "source": [
    "## Loading colors"
   ]
  },
  {
   "cell_type": "code",
   "execution_count": 6,
   "id": "7288c894",
   "metadata": {},
   "outputs": [
    {
     "name": "stdout",
     "output_type": "stream",
     "text": [
      "[[128 128 128]\n",
      " [  0 114 178]\n",
      " [213  94   0]\n",
      " [  0 158 115]\n",
      " [204 121 167]\n",
      " [240 228  66]\n",
      " [ 86 180 233]]\n",
      "{0: 'gray', 1: '#0072b2', 2: '#d55e00', 3: '#009e73', 4: '#cc79a7', 5: '#f0e442', 6: '#56b4e9'}\n"
     ]
    }
   ],
   "source": [
    "#colors = uf.return_color_scale('Omer_chosen_colors_dark_first')\n",
    "colors_with_inital_grey = deepcopy(colors_new)\n",
    "colors_with_inital_grey.insert(0, 'gray')\n",
    "rgb_colors_with_inital_grey = np.asarray(255*np.array([to_rgb(color) for color in colors_with_inital_grey]), int)\n",
    "print(rgb_colors_with_inital_grey)\n",
    "dict_colors = {i:color for i, color in enumerate(colors_with_inital_grey)}\n",
    "print(dict_colors )"
   ]
  },
  {
   "cell_type": "code",
   "execution_count": 7,
   "id": "7cee34a5",
   "metadata": {},
   "outputs": [
    {
     "data": {
      "text/plain": [
       "{0: array([0, 0, 0, 0]),\n",
       " 1: array([  0, 114, 178, 255]),\n",
       " 2: array([213,  94,   0, 255]),\n",
       " 3: array([  0, 158, 115, 255]),\n",
       " 4: array([204, 121, 167, 255]),\n",
       " 5: array([240, 228,  66, 255]),\n",
       " 6: array([ 86, 180, 233, 255])}"
      ]
     },
     "metadata": {},
     "output_type": "display_data"
    },
    {
     "data": {
      "text/plain": [
       "{0: array([0., 0., 0., 0.]),\n",
       " 1: array([0.        , 0.44705882, 0.69803922, 1.        ]),\n",
       " 2: array([0.83529412, 0.36862745, 0.        , 1.        ]),\n",
       " 3: array([0.        , 0.61960784, 0.45098039, 1.        ]),\n",
       " 4: array([0.8       , 0.4745098 , 0.65490196, 1.        ]),\n",
       " 5: array([0.94117647, 0.89411765, 0.25882353, 1.        ]),\n",
       " 6: array([0.3372549 , 0.70588235, 0.91372549, 1.        ])}"
      ]
     },
     "execution_count": 7,
     "metadata": {},
     "output_type": "execute_result"
    }
   ],
   "source": [
    "rgba_colors_with_inital_grey = np.asarray(255*np.array([to_rgba(color) for color in colors_with_inital_grey]), int)\n",
    "rgba_colors_with_inital_transparent = rgba_colors_with_inital_grey\n",
    "rgba_colors_with_inital_transparent[0] = 0\n",
    "rgba_colors_with_inital_transparent\n",
    "dict_colors_initial_transp = {i:color for i, color in enumerate(rgba_colors_with_inital_transparent)}\n",
    "display(dict_colors_initial_transp)\n",
    "dict_colors_initial_transp_0to1 = {i:color/255 for i, color in enumerate(rgba_colors_with_inital_transparent)}\n",
    "dict_colors_initial_transp_0to1"
   ]
  },
  {
   "cell_type": "code",
   "execution_count": 8,
   "id": "ec4659e6",
   "metadata": {},
   "outputs": [
    {
     "data": {
      "text/plain": [
       "{0: array([0., 0., 0., 0.]), 1: array([0., 0., 0., 1.])}"
      ]
     },
     "execution_count": 8,
     "metadata": {},
     "output_type": "execute_result"
    }
   ],
   "source": [
    "dict_gray_out_colors = {0:np.array([0,0,0,0], float), 1:np.array([0,0,0,1], float)}\n",
    "dict_gray_out_colors"
   ]
  },
  {
   "cell_type": "code",
   "execution_count": 9,
   "id": "a7d4a119",
   "metadata": {},
   "outputs": [
    {
     "name": "stdout",
     "output_type": "stream",
     "text": [
      "[[128 128 128]\n",
      " [  0 114 178]\n",
      " [213  94   0]\n",
      " [  0 158 115]\n",
      " [204 121 167]\n",
      " [240 228  66]\n",
      " [ 86 180 233]]\n",
      "{0: 'gray', 1: '#0072b2', 2: '#d55e00', 3: '#009e73', 4: '#cc79a7', 5: '#f0e442', 6: '#56b4e9'}\n"
     ]
    },
    {
     "data": {
      "text/plain": [
       "array([[0.50196078, 0.50196078, 0.50196078],\n",
       "       [0.        , 0.44705882, 0.69803922],\n",
       "       [0.83529412, 0.36862745, 0.        ],\n",
       "       [0.        , 0.61960784, 0.45098039],\n",
       "       [0.8       , 0.4745098 , 0.65490196],\n",
       "       [0.94117647, 0.89411765, 0.25882353],\n",
       "       [0.3372549 , 0.70588235, 0.91372549]])"
      ]
     },
     "execution_count": 9,
     "metadata": {},
     "output_type": "execute_result"
    }
   ],
   "source": [
    "rgb_colors_with_inital_grey = np.asarray(255*np.array([to_rgb(color) for color in colors_with_inital_grey]), int)\n",
    "print(rgb_colors_with_inital_grey)\n",
    "dict_colors = {i:color for i, color in enumerate(colors_with_inital_grey)}\n",
    "print(dict_colors)\n",
    "rgb_colors_with_inital_grey_0to1 = np.asarray(np.array([to_rgb(color) for color in colors_with_inital_grey]), float)\n",
    "rgb_colors_with_inital_grey_0to1"
   ]
  },
  {
   "cell_type": "markdown",
   "id": "82b018a7",
   "metadata": {},
   "source": [
    "## Loading data"
   ]
  },
  {
   "cell_type": "code",
   "execution_count": 10,
   "id": "9a294c77",
   "metadata": {},
   "outputs": [
    {
     "data": {
      "text/html": [
       "<div>\n",
       "<style scoped>\n",
       "    .dataframe tbody tr th:only-of-type {\n",
       "        vertical-align: middle;\n",
       "    }\n",
       "\n",
       "    .dataframe tbody tr th {\n",
       "        vertical-align: top;\n",
       "    }\n",
       "\n",
       "    .dataframe thead th {\n",
       "        text-align: right;\n",
       "    }\n",
       "</style>\n",
       "<table border=\"1\" class=\"dataframe\">\n",
       "  <thead>\n",
       "    <tr style=\"text-align: right;\">\n",
       "      <th></th>\n",
       "      <th>original_index</th>\n",
       "      <th>annotated</th>\n",
       "      <th>output_filename</th>\n",
       "      <th>output_filename_annotations</th>\n",
       "      <th>bits_per_component</th>\n",
       "      <th>data_set_id</th>\n",
       "      <th>expression_x</th>\n",
       "      <th>height</th>\n",
       "      <th>subimage_id</th>\n",
       "      <th>image_height</th>\n",
       "      <th>...</th>\n",
       "      <th>extent_of_resection</th>\n",
       "      <th>mgmt_methylation</th>\n",
       "      <th>pten_deletion</th>\n",
       "      <th>radiation_therapy</th>\n",
       "      <th>tumor_status</th>\n",
       "      <th>initial_kps</th>\n",
       "      <th>time_to_progression_or_recurrence</th>\n",
       "      <th>mgmt_ihc</th>\n",
       "      <th>survival_days</th>\n",
       "      <th>molecular_subtype</th>\n",
       "    </tr>\n",
       "  </thead>\n",
       "  <tbody>\n",
       "    <tr>\n",
       "      <th>50</th>\n",
       "      <td>50</td>\n",
       "      <td>False</td>\n",
       "      <td>donor_id_12106_specimen_id_268416305_subimage_...</td>\n",
       "      <td>donor_id_12106_specimen_id_268416305_subimage_...</td>\n",
       "      <td>8.0</td>\n",
       "      <td>273294277</td>\n",
       "      <td>NaN</td>\n",
       "      <td>18080</td>\n",
       "      <td>273294441</td>\n",
       "      <td>44736</td>\n",
       "      <td>...</td>\n",
       "      <td>Complete</td>\n",
       "      <td>No</td>\n",
       "      <td>Yes</td>\n",
       "      <td>Yes</td>\n",
       "      <td>primary</td>\n",
       "      <td>90</td>\n",
       "      <td>102.0</td>\n",
       "      <td>80.0</td>\n",
       "      <td>540.0</td>\n",
       "      <td>Mesenchymal, Neural</td>\n",
       "    </tr>\n",
       "    <tr>\n",
       "      <th>217</th>\n",
       "      <td>217</td>\n",
       "      <td>True</td>\n",
       "      <td>donor_id_12165_specimen_id_706867_subimage_id_...</td>\n",
       "      <td>donor_id_12165_specimen_id_706867_subimage_id_...</td>\n",
       "      <td>8.0</td>\n",
       "      <td>300631275</td>\n",
       "      <td>False</td>\n",
       "      <td>18048</td>\n",
       "      <td>300631309</td>\n",
       "      <td>29632</td>\n",
       "      <td>...</td>\n",
       "      <td>Sub-total</td>\n",
       "      <td>No</td>\n",
       "      <td>No</td>\n",
       "      <td>No</td>\n",
       "      <td>primary</td>\n",
       "      <td>70</td>\n",
       "      <td>7.0</td>\n",
       "      <td>20.0</td>\n",
       "      <td>80.0</td>\n",
       "      <td>Classical</td>\n",
       "    </tr>\n",
       "    <tr>\n",
       "      <th>231</th>\n",
       "      <td>231</td>\n",
       "      <td>False</td>\n",
       "      <td>donor_id_12111_specimen_id_301589924_subimage_...</td>\n",
       "      <td>donor_id_12111_specimen_id_301589924_subimage_...</td>\n",
       "      <td>8.0</td>\n",
       "      <td>302049403</td>\n",
       "      <td>False</td>\n",
       "      <td>18048</td>\n",
       "      <td>302049407</td>\n",
       "      <td>29376</td>\n",
       "      <td>...</td>\n",
       "      <td>Complete</td>\n",
       "      <td>Yes</td>\n",
       "      <td>No</td>\n",
       "      <td>Yes</td>\n",
       "      <td>primary</td>\n",
       "      <td>100</td>\n",
       "      <td>NaN</td>\n",
       "      <td>0.0</td>\n",
       "      <td>NaN</td>\n",
       "      <td>Proneural</td>\n",
       "    </tr>\n",
       "    <tr>\n",
       "      <th>267</th>\n",
       "      <td>267</td>\n",
       "      <td>False</td>\n",
       "      <td>donor_id_12108_specimen_id_298804531_subimage_...</td>\n",
       "      <td>donor_id_12108_specimen_id_298804531_subimage_...</td>\n",
       "      <td>8.0</td>\n",
       "      <td>309715108</td>\n",
       "      <td>False</td>\n",
       "      <td>18048</td>\n",
       "      <td>309715132</td>\n",
       "      <td>46176</td>\n",
       "      <td>...</td>\n",
       "      <td>Complete</td>\n",
       "      <td>No</td>\n",
       "      <td>No</td>\n",
       "      <td>Yes</td>\n",
       "      <td>primary</td>\n",
       "      <td>70</td>\n",
       "      <td>29.0</td>\n",
       "      <td>20.0</td>\n",
       "      <td>442.0</td>\n",
       "      <td>Classical, Mesenchymal</td>\n",
       "    </tr>\n",
       "    <tr>\n",
       "      <th>290</th>\n",
       "      <td>290</td>\n",
       "      <td>False</td>\n",
       "      <td>donor_id_12111_specimen_id_310607296_subimage_...</td>\n",
       "      <td>donor_id_12111_specimen_id_310607296_subimage_...</td>\n",
       "      <td>NaN</td>\n",
       "      <td>311174529</td>\n",
       "      <td>NaN</td>\n",
       "      <td>18048</td>\n",
       "      <td>311174531</td>\n",
       "      <td>44160</td>\n",
       "      <td>...</td>\n",
       "      <td>Complete</td>\n",
       "      <td>Yes</td>\n",
       "      <td>No</td>\n",
       "      <td>Yes</td>\n",
       "      <td>primary</td>\n",
       "      <td>100</td>\n",
       "      <td>NaN</td>\n",
       "      <td>0.0</td>\n",
       "      <td>NaN</td>\n",
       "      <td>Proneural</td>\n",
       "    </tr>\n",
       "    <tr>\n",
       "      <th>309</th>\n",
       "      <td>309</td>\n",
       "      <td>False</td>\n",
       "      <td>donor_id_292023109_specimen_id_293252159_subim...</td>\n",
       "      <td>donor_id_292023109_specimen_id_293252159_subim...</td>\n",
       "      <td>8.0</td>\n",
       "      <td>294219122</td>\n",
       "      <td>NaN</td>\n",
       "      <td>18080</td>\n",
       "      <td>294219224</td>\n",
       "      <td>44512</td>\n",
       "      <td>...</td>\n",
       "      <td>Complete</td>\n",
       "      <td>Yes</td>\n",
       "      <td>NaN</td>\n",
       "      <td>Yes</td>\n",
       "      <td>primary</td>\n",
       "      <td>100</td>\n",
       "      <td>NaN</td>\n",
       "      <td>NaN</td>\n",
       "      <td>NaN</td>\n",
       "      <td>Classical</td>\n",
       "    </tr>\n",
       "    <tr>\n",
       "      <th>406</th>\n",
       "      <td>406</td>\n",
       "      <td>True</td>\n",
       "      <td>donor_id_12112_specimen_id_299863542_subimage_...</td>\n",
       "      <td>donor_id_12112_specimen_id_299863542_subimage_...</td>\n",
       "      <td>8.0</td>\n",
       "      <td>300630250</td>\n",
       "      <td>False</td>\n",
       "      <td>18048</td>\n",
       "      <td>300630264</td>\n",
       "      <td>28480</td>\n",
       "      <td>...</td>\n",
       "      <td>Complete</td>\n",
       "      <td>Yes</td>\n",
       "      <td>No</td>\n",
       "      <td>Yes</td>\n",
       "      <td>primary</td>\n",
       "      <td>100</td>\n",
       "      <td>159.0</td>\n",
       "      <td>50.0</td>\n",
       "      <td>1076.0</td>\n",
       "      <td>Classical, Mesenchymal</td>\n",
       "    </tr>\n",
       "    <tr>\n",
       "      <th>418</th>\n",
       "      <td>418</td>\n",
       "      <td>False</td>\n",
       "      <td>donor_id_12165_specimen_id_706710_subimage_id_...</td>\n",
       "      <td>donor_id_12165_specimen_id_706710_subimage_id_...</td>\n",
       "      <td>8.0</td>\n",
       "      <td>100125322</td>\n",
       "      <td>NaN</td>\n",
       "      <td>17152</td>\n",
       "      <td>101713024</td>\n",
       "      <td>38944</td>\n",
       "      <td>...</td>\n",
       "      <td>Sub-total</td>\n",
       "      <td>No</td>\n",
       "      <td>No</td>\n",
       "      <td>No</td>\n",
       "      <td>primary</td>\n",
       "      <td>70</td>\n",
       "      <td>7.0</td>\n",
       "      <td>20.0</td>\n",
       "      <td>80.0</td>\n",
       "      <td>Classical</td>\n",
       "    </tr>\n",
       "    <tr>\n",
       "      <th>474</th>\n",
       "      <td>474</td>\n",
       "      <td>False</td>\n",
       "      <td>donor_id_12165_specimen_id_287815403_subimage_...</td>\n",
       "      <td>donor_id_12165_specimen_id_287815403_subimage_...</td>\n",
       "      <td>8.0</td>\n",
       "      <td>292343853</td>\n",
       "      <td>NaN</td>\n",
       "      <td>18080</td>\n",
       "      <td>292344018</td>\n",
       "      <td>43904</td>\n",
       "      <td>...</td>\n",
       "      <td>Sub-total</td>\n",
       "      <td>No</td>\n",
       "      <td>No</td>\n",
       "      <td>No</td>\n",
       "      <td>primary</td>\n",
       "      <td>70</td>\n",
       "      <td>7.0</td>\n",
       "      <td>20.0</td>\n",
       "      <td>80.0</td>\n",
       "      <td>Classical</td>\n",
       "    </tr>\n",
       "    <tr>\n",
       "      <th>498</th>\n",
       "      <td>498</td>\n",
       "      <td>False</td>\n",
       "      <td>donor_id_15343_specimen_id_281857486_subimage_...</td>\n",
       "      <td>donor_id_15343_specimen_id_281857486_subimage_...</td>\n",
       "      <td>8.0</td>\n",
       "      <td>286687999</td>\n",
       "      <td>NaN</td>\n",
       "      <td>18080</td>\n",
       "      <td>286688001</td>\n",
       "      <td>45760</td>\n",
       "      <td>...</td>\n",
       "      <td>Sub-total</td>\n",
       "      <td>Yes</td>\n",
       "      <td>No</td>\n",
       "      <td>Yes</td>\n",
       "      <td>primary</td>\n",
       "      <td>70</td>\n",
       "      <td>236.0</td>\n",
       "      <td>0.0</td>\n",
       "      <td>311.0</td>\n",
       "      <td>Proneural</td>\n",
       "    </tr>\n",
       "    <tr>\n",
       "      <th>544</th>\n",
       "      <td>544</td>\n",
       "      <td>False</td>\n",
       "      <td>donor_id_12111_specimen_id_287469118_subimage_...</td>\n",
       "      <td>donor_id_12111_specimen_id_287469118_subimage_...</td>\n",
       "      <td>8.0</td>\n",
       "      <td>292327640</td>\n",
       "      <td>NaN</td>\n",
       "      <td>18080</td>\n",
       "      <td>292327668</td>\n",
       "      <td>43904</td>\n",
       "      <td>...</td>\n",
       "      <td>Complete</td>\n",
       "      <td>Yes</td>\n",
       "      <td>No</td>\n",
       "      <td>Yes</td>\n",
       "      <td>primary</td>\n",
       "      <td>100</td>\n",
       "      <td>NaN</td>\n",
       "      <td>0.0</td>\n",
       "      <td>NaN</td>\n",
       "      <td>Proneural</td>\n",
       "    </tr>\n",
       "    <tr>\n",
       "      <th>594</th>\n",
       "      <td>594</td>\n",
       "      <td>False</td>\n",
       "      <td>donor_id_13988_specimen_id_278113164_subimage_...</td>\n",
       "      <td>donor_id_13988_specimen_id_278113164_subimage_...</td>\n",
       "      <td>8.0</td>\n",
       "      <td>286689235</td>\n",
       "      <td>NaN</td>\n",
       "      <td>18080</td>\n",
       "      <td>286689303</td>\n",
       "      <td>45760</td>\n",
       "      <td>...</td>\n",
       "      <td>Complete</td>\n",
       "      <td>Yes</td>\n",
       "      <td>NaN</td>\n",
       "      <td>No</td>\n",
       "      <td>primary</td>\n",
       "      <td>100</td>\n",
       "      <td>1005.0</td>\n",
       "      <td>NaN</td>\n",
       "      <td>1293.0</td>\n",
       "      <td>Neural</td>\n",
       "    </tr>\n",
       "  </tbody>\n",
       "</table>\n",
       "<p>12 rows × 75 columns</p>\n",
       "</div>"
      ],
      "text/plain": [
       "     original_index  annotated   \n",
       "50               50      False  \\\n",
       "217             217       True   \n",
       "231             231      False   \n",
       "267             267      False   \n",
       "290             290      False   \n",
       "309             309      False   \n",
       "406             406       True   \n",
       "418             418      False   \n",
       "474             474      False   \n",
       "498             498      False   \n",
       "544             544      False   \n",
       "594             594      False   \n",
       "\n",
       "                                       output_filename   \n",
       "50   donor_id_12106_specimen_id_268416305_subimage_...  \\\n",
       "217  donor_id_12165_specimen_id_706867_subimage_id_...   \n",
       "231  donor_id_12111_specimen_id_301589924_subimage_...   \n",
       "267  donor_id_12108_specimen_id_298804531_subimage_...   \n",
       "290  donor_id_12111_specimen_id_310607296_subimage_...   \n",
       "309  donor_id_292023109_specimen_id_293252159_subim...   \n",
       "406  donor_id_12112_specimen_id_299863542_subimage_...   \n",
       "418  donor_id_12165_specimen_id_706710_subimage_id_...   \n",
       "474  donor_id_12165_specimen_id_287815403_subimage_...   \n",
       "498  donor_id_15343_specimen_id_281857486_subimage_...   \n",
       "544  donor_id_12111_specimen_id_287469118_subimage_...   \n",
       "594  donor_id_13988_specimen_id_278113164_subimage_...   \n",
       "\n",
       "                           output_filename_annotations  bits_per_component   \n",
       "50   donor_id_12106_specimen_id_268416305_subimage_...                 8.0  \\\n",
       "217  donor_id_12165_specimen_id_706867_subimage_id_...                 8.0   \n",
       "231  donor_id_12111_specimen_id_301589924_subimage_...                 8.0   \n",
       "267  donor_id_12108_specimen_id_298804531_subimage_...                 8.0   \n",
       "290  donor_id_12111_specimen_id_310607296_subimage_...                 NaN   \n",
       "309  donor_id_292023109_specimen_id_293252159_subim...                 8.0   \n",
       "406  donor_id_12112_specimen_id_299863542_subimage_...                 8.0   \n",
       "418  donor_id_12165_specimen_id_706710_subimage_id_...                 8.0   \n",
       "474  donor_id_12165_specimen_id_287815403_subimage_...                 8.0   \n",
       "498  donor_id_15343_specimen_id_281857486_subimage_...                 8.0   \n",
       "544  donor_id_12111_specimen_id_287469118_subimage_...                 8.0   \n",
       "594  donor_id_13988_specimen_id_278113164_subimage_...                 8.0   \n",
       "\n",
       "     data_set_id expression_x  height  subimage_id  image_height  ...   \n",
       "50     273294277          NaN   18080    273294441         44736  ...  \\\n",
       "217    300631275        False   18048    300631309         29632  ...   \n",
       "231    302049403        False   18048    302049407         29376  ...   \n",
       "267    309715108        False   18048    309715132         46176  ...   \n",
       "290    311174529          NaN   18048    311174531         44160  ...   \n",
       "309    294219122          NaN   18080    294219224         44512  ...   \n",
       "406    300630250        False   18048    300630264         28480  ...   \n",
       "418    100125322          NaN   17152    101713024         38944  ...   \n",
       "474    292343853          NaN   18080    292344018         43904  ...   \n",
       "498    286687999          NaN   18080    286688001         45760  ...   \n",
       "544    292327640          NaN   18080    292327668         43904  ...   \n",
       "594    286689235          NaN   18080    286689303         45760  ...   \n",
       "\n",
       "    extent_of_resection  mgmt_methylation  pten_deletion  radiation_therapy   \n",
       "50             Complete                No            Yes                Yes  \\\n",
       "217           Sub-total                No             No                 No   \n",
       "231            Complete               Yes             No                Yes   \n",
       "267            Complete                No             No                Yes   \n",
       "290            Complete               Yes             No                Yes   \n",
       "309            Complete               Yes            NaN                Yes   \n",
       "406            Complete               Yes             No                Yes   \n",
       "418           Sub-total                No             No                 No   \n",
       "474           Sub-total                No             No                 No   \n",
       "498           Sub-total               Yes             No                Yes   \n",
       "544            Complete               Yes             No                Yes   \n",
       "594            Complete               Yes            NaN                 No   \n",
       "\n",
       "    tumor_status  initial_kps  time_to_progression_or_recurrence  mgmt_ihc   \n",
       "50       primary           90                              102.0      80.0  \\\n",
       "217      primary           70                                7.0      20.0   \n",
       "231      primary          100                                NaN       0.0   \n",
       "267      primary           70                               29.0      20.0   \n",
       "290      primary          100                                NaN       0.0   \n",
       "309      primary          100                                NaN       NaN   \n",
       "406      primary          100                              159.0      50.0   \n",
       "418      primary           70                                7.0      20.0   \n",
       "474      primary           70                                7.0      20.0   \n",
       "498      primary           70                              236.0       0.0   \n",
       "544      primary          100                                NaN       0.0   \n",
       "594      primary          100                             1005.0       NaN   \n",
       "\n",
       "     survival_days       molecular_subtype  \n",
       "50           540.0     Mesenchymal, Neural  \n",
       "217           80.0               Classical  \n",
       "231            NaN               Proneural  \n",
       "267          442.0  Classical, Mesenchymal  \n",
       "290            NaN               Proneural  \n",
       "309            NaN               Classical  \n",
       "406         1076.0  Classical, Mesenchymal  \n",
       "418           80.0               Classical  \n",
       "474           80.0               Classical  \n",
       "498          311.0               Proneural  \n",
       "544            NaN               Proneural  \n",
       "594         1293.0                  Neural  \n",
       "\n",
       "[12 rows x 75 columns]"
      ]
     },
     "execution_count": 10,
     "metadata": {},
     "output_type": "execute_result"
    }
   ],
   "source": [
    "#directory_images_metadata = fileroot + 'team283_imaging/' + '0ExternalData/2022-09-01_IVY_GAP/'\n",
    "directory_images_metadata = fileroot + '0ExternalData/2022-09-01_IVY_GAP/'\n",
    "filename_images_metadata = '2022-09-01_IVY_GAP_metadata.csv'\n",
    "df_images_metadata = pd.read_csv(directory_images_metadata + filename_images_metadata, index_col=0)\n",
    "df_images_metadata = df_images_metadata.loc[df_images_metadata['original_index'].isin([50, 594, 406, 418, \n",
    "267, 290, 474, 231, 498, 217, \n",
    "309, 544])]\n",
    "df_images_metadata"
   ]
  },
  {
   "cell_type": "code",
   "execution_count": 11,
   "id": "fe4abe93",
   "metadata": {
    "scrolled": true
   },
   "outputs": [
    {
     "name": "stdout",
     "output_type": "stream",
     "text": [
      "donor_id_12108_specimen_id_298804531_subimage_id_309715132.jpg\n",
      "donor_id_12108_specimen_id_298804531_subimage_id_309715132_annotation.jpg\n"
     ]
    }
   ],
   "source": [
    "patchsize = 200\n",
    "this_original_index = 267 #594, 474\n",
    "#[50, 594, 406, 418, 267, 290, 474, 231, 498, 217, 309, 544] #474\n",
    "filename_img = df_images_metadata.loc[this_original_index]['output_filename']; print(filename_img)\n",
    "filename_gt_original_res = df_images_metadata.loc[this_original_index]['output_filename_annotations']; \n",
    "print(filename_gt_original_res)"
   ]
  },
  {
   "cell_type": "code",
   "execution_count": 12,
   "id": "8540b5dc",
   "metadata": {},
   "outputs": [],
   "source": [
    "directory_img = fileroot + '0ExternalData/2022-09-01_IVY_GAP/2022-08-31_originals/'\n",
    "original = skimage.io.imread(directory_img + filename_img)\n",
    "final_target_size = 1"
   ]
  },
  {
   "cell_type": "code",
   "execution_count": 13,
   "id": "6f539b1c",
   "metadata": {},
   "outputs": [
    {
     "data": {
      "text/plain": [
       "{0: '#Ffffff',\n",
       " 1: '#006400',\n",
       " 2: '#ff1493',\n",
       " 3: '#a6730a',\n",
       " 4: '#ff8c00',\n",
       " 5: '#00bfff',\n",
       " 6: '#0000ff',\n",
       " 7: '#ffd700',\n",
       " 8: '#800080',\n",
       " 9: '#000054'}"
      ]
     },
     "execution_count": 13,
     "metadata": {},
     "output_type": "execute_result"
    }
   ],
   "source": [
    "directory_colors_metadata = fileroot + '0ExternalData/2022-09-01_IVY_GAP/'\n",
    "filename_colors_metadata = '2022-09-02_colors_for_IVY_GAP.csv'\n",
    "df_colors = pd.read_csv(directory_colors_metadata + filename_colors_metadata, index_col=0)\n",
    "df_colors_out = df_colors.set_index('color_indices').loc[:, ['white_first']].squeeze().to_dict()\n",
    "df_colors_out"
   ]
  },
  {
   "cell_type": "code",
   "execution_count": 14,
   "id": "557d6c1b",
   "metadata": {},
   "outputs": [
    {
     "data": {
      "text/plain": [
       "{1: '#006400',\n",
       " 2: '#ff1493',\n",
       " 3: '#a6730a',\n",
       " 4: '#ff8c00',\n",
       " 5: '#00bfff',\n",
       " 6: '#0000ff',\n",
       " 7: '#ffd700',\n",
       " 8: '#800080',\n",
       " 9: '#000054'}"
      ]
     },
     "execution_count": 14,
     "metadata": {},
     "output_type": "execute_result"
    }
   ],
   "source": [
    "df_colors_out_no_zero = {key:value for key,value in df_colors_out.items() if key != 0}\n",
    "df_colors_out_no_zero "
   ]
  },
  {
   "cell_type": "code",
   "execution_count": 15,
   "id": "fa67d44a",
   "metadata": {},
   "outputs": [
    {
     "name": "stdout",
     "output_type": "stream",
     "text": [
      "[0 1 2 3]\n"
     ]
    },
    {
     "data": {
      "image/png": "[encoded data removed]",
      "text/plain": [
       "<Figure size 640x480 with 1 Axes>"
      ]
     },
     "metadata": {},
     "output_type": "display_data"
    },
    {
     "data": {
      "image/png": "[encoded data removed]",
      "text/plain": [
       "<Figure size 640x480 with 1 Axes>"
      ]
     },
     "metadata": {},
     "output_type": "display_data"
    }
   ],
   "source": [
    "#optional\n",
    "directory_gt_original_res = fileroot + '0ExternalData/2022-09-01_IVY_GAP/2022-09-02_integer_annotations/'\n",
    "gt_45 = np.load(directory_gt_original_res + filename_gt_original_res.replace('.jpg', '.npy'))\n",
    "print(np.unique(gt_45))\n",
    "plt.imshow(gt_45)\n",
    "plt.show()\n",
    "rgb_gt_45 = uf.label2rgb_with_dict(gt_45, df_colors_out)\n",
    "plt.imshow(rgb_gt_45)\n",
    "plt.show()"
   ]
  },
  {
   "cell_type": "code",
   "execution_count": 16,
   "id": "100821fb",
   "metadata": {},
   "outputs": [
    {
     "data": {
      "text/plain": [
       "['C_4_Imageindex_267_rgb.npy',\n",
       " 'C_3_Imageindex_418_ints.npy',\n",
       " 'C_11_Imageindex_544_rgb.npy',\n",
       " 'C_5_Imageindex_290_rgb.npy',\n",
       " 'C_9_Imageindex_217_ints.npy',\n",
       " 'C_0_Imageindex_50_rgb.npy',\n",
       " 'C_1_Imageindex_594_ints.npy',\n",
       " 'C_0_Imageindex_406_ints.npy',\n",
       " 'C_1_Imageindex_594_rgb.npy',\n",
       " 'C_6_Imageindex_474_rgb.npy',\n",
       " 'C_0_Imageindex_50_ints.npy',\n",
       " 'C_0_Imageindex_231_rgb.npy',\n",
       " 'C_4_Imageindex_267_ints.npy',\n",
       " 'C_8_Imageindex_498_rgb.npy',\n",
       " 'C_2_Imageindex_406_ints.npy',\n",
       " 'C_0_Imageindex_406_rgb.npy',\n",
       " 'C_10_Imageindex_309_ints.npy',\n",
       " 'C_0_Imageindex_231_ints.npy',\n",
       " 'C_7_Imageindex_231_rgb.npy',\n",
       " 'C_11_Imageindex_544_ints.npy',\n",
       " 'C_5_Imageindex_290_ints.npy',\n",
       " 'C_6_Imageindex_474_ints.npy',\n",
       " 'C_9_Imageindex_217_rgb.npy',\n",
       " 'C_7_Imageindex_231_ints.npy',\n",
       " 'C_2_Imageindex_406_rgb.npy',\n",
       " 'C_3_Imageindex_418_rgb.npy',\n",
       " 'C_8_Imageindex_498_ints.npy',\n",
       " 'C_10_Imageindex_309_rgb.npy']"
      ]
     },
     "execution_count": 16,
     "metadata": {},
     "output_type": "execute_result"
    }
   ],
   "source": [
    "directory_output_masks = 'HDBScan_Output_masks/'\n",
    "filenames = os.listdir(directory_output_masks)\n",
    "filenames"
   ]
  },
  {
   "cell_type": "code",
   "execution_count": 17,
   "id": "3c419532",
   "metadata": {},
   "outputs": [
    {
     "name": "stdout",
     "output_type": "stream",
     "text": [
      "['C_4_Imageindex_267_rgb.npy', 'C_4_Imageindex_267_ints.npy']\n",
      "C_4_Imageindex_267_ints.npy\n",
      "C_4_Imageindex_267_rgb.npy\n"
     ]
    },
    {
     "data": {
      "image/png": "[encoded data removed]",
      "text/plain": [
       "<Figure size 640x480 with 1 Axes>"
      ]
     },
     "metadata": {},
     "output_type": "display_data"
    },
    {
     "data": {
      "image/png": "[encoded data removed]",
      "text/plain": [
       "<Figure size 640x480 with 1 Axes>"
      ]
     },
     "metadata": {},
     "output_type": "display_data"
    }
   ],
   "source": [
    "from skimage import img_as_ubyte\n",
    "this_index_filenames = [each for each in filenames if 'Imageindex_'+str(this_original_index) in each]\n",
    "print(this_index_filenames)\n",
    "myfilename_ints = [each for each in this_index_filenames if 'ints' in each][0]\n",
    "print(myfilename_ints)\n",
    "myfilename_rgb = [each for each in this_index_filenames if 'rgb' in each][0]\n",
    "print(myfilename_rgb)\n",
    "intlabels = np.load(directory_output_masks + myfilename_ints)\n",
    "intlabels -= np.min(intlabels)\n",
    "plt.imshow(intlabels)\n",
    "plt.show()\n",
    "rgblabels = img_as_ubyte(np.load(directory_output_masks + myfilename_rgb))\n",
    "plt.imshow(rgblabels)\n",
    "plt.show()"
   ]
  },
  {
   "cell_type": "code",
   "execution_count": 18,
   "id": "859a90dd",
   "metadata": {},
   "outputs": [
    {
     "data": {
      "text/plain": [
       "array([0, 1, 2, 3], dtype=int16)"
      ]
     },
     "execution_count": 18,
     "metadata": {},
     "output_type": "execute_result"
    }
   ],
   "source": [
    "np.unique(intlabels)"
   ]
  },
  {
   "cell_type": "code",
   "execution_count": 19,
   "id": "afd48610",
   "metadata": {},
   "outputs": [
    {
     "data": {
      "text/plain": [
       "{0: array([1., 1., 1.]),\n",
       " 1: array([0.29803922, 0.29803922, 0.29803922]),\n",
       " 2: array([1.        , 0.07843137, 0.57647059]),\n",
       " 3: array([0.65098039, 0.45098039, 0.03921569])}"
      ]
     },
     "execution_count": 19,
     "metadata": {},
     "output_type": "execute_result"
    }
   ],
   "source": [
    "int_to_rgb_dict = uf.intlabels_and_rgblabels_to_dict(intlabels, rgblabels, list_to_ignore = [], divide_by_255=True)\n",
    "int_to_rgb_dict"
   ]
  },
  {
   "cell_type": "code",
   "execution_count": 20,
   "id": "47f4aa88",
   "metadata": {},
   "outputs": [
    {
     "data": {
      "text/plain": [
       "{1: array([0.29803922, 0.29803922, 0.29803922]),\n",
       " 2: array([1.        , 0.07843137, 0.57647059]),\n",
       " 3: array([0.65098039, 0.45098039, 0.03921569])}"
      ]
     },
     "execution_count": 20,
     "metadata": {},
     "output_type": "execute_result"
    }
   ],
   "source": [
    "int_to_rgb_dict_no_zero = uf.intlabels_and_rgblabels_to_dict(intlabels, rgblabels, list_to_ignore = [0], divide_by_255=True)\n",
    "int_to_rgb_dict_no_zero"
   ]
  },
  {
   "cell_type": "code",
   "execution_count": 21,
   "id": "724e9cff",
   "metadata": {},
   "outputs": [
    {
     "data": {
      "text/plain": [
       "(dtype('int16'), 3, 0)"
      ]
     },
     "execution_count": 21,
     "metadata": {},
     "output_type": "execute_result"
    }
   ],
   "source": [
    "intlabels.dtype, np.max(intlabels), np.min(intlabels)"
   ]
  },
  {
   "cell_type": "markdown",
   "id": "bd0b6e31",
   "metadata": {},
   "source": [
    "# Napari load"
   ]
  },
  {
   "cell_type": "code",
   "execution_count": 22,
   "id": "38de0073",
   "metadata": {},
   "outputs": [],
   "source": [
    "viewer = napari.Viewer()"
   ]
  },
  {
   "cell_type": "code",
   "execution_count": 23,
   "id": "3cebbf6e",
   "metadata": {},
   "outputs": [
    {
     "data": {
      "text/plain": [
       "[(18048, 15104, 3),\n",
       " (9024, 7552, 3),\n",
       " (4512, 3776, 3),\n",
       " (2256, 1888, 3),\n",
       " (1128, 944, 3),\n",
       " (564, 472, 3)]"
      ]
     },
     "execution_count": 23,
     "metadata": {},
     "output_type": "execute_result"
    }
   ],
   "source": [
    "#original_pyr = uf.get_pyramid_hybrid_loading(original, 2000, 200000)\n",
    "#original_pyr = [original[::i, ::i] for i in [1, 2, 4, 8, 16, 32]]\n",
    "#original_pyr = [original[::i, ::i] for i in [1, 2]]\n",
    "#original_pyr = [np.copy(original[::i, ::i]) for i in [1, 2]]\n",
    "#original_pyr = [np.copy(original[::i, ::i]) for i in [1, 2, 4, 8, 16, 32]]\n",
    "original_pyr = uf.get_pyramid_hybrid_loading(original, 1000, 200000)\n",
    "[each.shape for each in original_pyr]"
   ]
  },
  {
   "cell_type": "code",
   "execution_count": 24,
   "id": "cf73988f",
   "metadata": {},
   "outputs": [
    {
     "data": {
      "text/plain": [
       "[array([[[248, 246, 247],\n",
       "         [248, 246, 247],\n",
       "         [248, 246, 247],\n",
       "         ...,\n",
       "         [238, 196, 210],\n",
       "         [245, 204, 218],\n",
       "         [251, 210, 224]],\n",
       " \n",
       "        [[248, 246, 247],\n",
       "         [248, 246, 247],\n",
       "         [248, 246, 247],\n",
       "         ...,\n",
       "         [238, 196, 210],\n",
       "         [245, 204, 218],\n",
       "         [251, 210, 224]],\n",
       " \n",
       "        [[248, 246, 247],\n",
       "         [248, 246, 247],\n",
       "         [248, 246, 247],\n",
       "         ...,\n",
       "         [237, 195, 209],\n",
       "         [244, 203, 217],\n",
       "         [250, 209, 223]],\n",
       " \n",
       "        ...,\n",
       " \n",
       "        [[249, 249, 247],\n",
       "         [249, 249, 247],\n",
       "         [249, 249, 247],\n",
       "         ...,\n",
       "         [247, 249, 248],\n",
       "         [247, 249, 248],\n",
       "         [247, 249, 248]],\n",
       " \n",
       "        [[248, 248, 246],\n",
       "         [248, 248, 246],\n",
       "         [248, 248, 246],\n",
       "         ...,\n",
       "         [247, 249, 248],\n",
       "         [247, 249, 248],\n",
       "         [247, 249, 248]],\n",
       " \n",
       "        [[247, 247, 245],\n",
       "         [247, 247, 245],\n",
       "         [247, 247, 245],\n",
       "         ...,\n",
       "         [247, 249, 248],\n",
       "         [247, 249, 248],\n",
       "         [247, 249, 248]]], dtype=uint8),\n",
       " array([[[248, 246, 247],\n",
       "         [248, 246, 247],\n",
       "         [248, 246, 247],\n",
       "         ...,\n",
       "         [231, 187, 202],\n",
       "         [232, 190, 204],\n",
       "         [245, 204, 218]],\n",
       " \n",
       "        [[248, 246, 247],\n",
       "         [248, 246, 247],\n",
       "         [248, 246, 247],\n",
       "         ...,\n",
       "         [228, 184, 199],\n",
       "         [230, 188, 202],\n",
       "         [244, 203, 217]],\n",
       " \n",
       "        [[248, 246, 247],\n",
       "         [248, 246, 247],\n",
       "         [248, 246, 247],\n",
       "         ...,\n",
       "         [233, 191, 203],\n",
       "         [233, 191, 203],\n",
       "         [242, 202, 213]],\n",
       " \n",
       "        ...,\n",
       " \n",
       "        [[249, 249, 247],\n",
       "         [249, 249, 247],\n",
       "         [249, 249, 247],\n",
       "         ...,\n",
       "         [248, 250, 249],\n",
       "         [248, 250, 249],\n",
       "         [248, 250, 249]],\n",
       " \n",
       "        [[250, 250, 248],\n",
       "         [250, 250, 248],\n",
       "         [250, 250, 248],\n",
       "         ...,\n",
       "         [248, 250, 249],\n",
       "         [248, 250, 249],\n",
       "         [248, 250, 249]],\n",
       " \n",
       "        [[248, 248, 246],\n",
       "         [248, 248, 246],\n",
       "         [248, 248, 246],\n",
       "         ...,\n",
       "         [247, 249, 248],\n",
       "         [247, 249, 248],\n",
       "         [247, 249, 248]]], dtype=uint8),\n",
       " array([[[248, 246, 247],\n",
       "         [248, 246, 247],\n",
       "         [248, 246, 247],\n",
       "         ...,\n",
       "         [231, 198, 209],\n",
       "         [232, 190, 204],\n",
       "         [232, 190, 204]],\n",
       " \n",
       "        [[248, 246, 247],\n",
       "         [248, 246, 247],\n",
       "         [248, 246, 247],\n",
       "         ...,\n",
       "         [244, 204, 215],\n",
       "         [236, 192, 205],\n",
       "         [233, 191, 203]],\n",
       " \n",
       "        [[248, 246, 247],\n",
       "         [247, 245, 246],\n",
       "         [251, 249, 250],\n",
       "         ...,\n",
       "         [238, 192, 205],\n",
       "         [237, 193, 206],\n",
       "         [234, 192, 204]],\n",
       " \n",
       "        ...,\n",
       " \n",
       "        [[247, 247, 245],\n",
       "         [247, 247, 245],\n",
       "         [248, 248, 246],\n",
       "         ...,\n",
       "         [248, 250, 249],\n",
       "         [248, 250, 249],\n",
       "         [248, 250, 249]],\n",
       " \n",
       "        [[247, 247, 245],\n",
       "         [247, 247, 245],\n",
       "         [249, 249, 247],\n",
       "         ...,\n",
       "         [248, 250, 249],\n",
       "         [248, 250, 249],\n",
       "         [248, 250, 249]],\n",
       " \n",
       "        [[250, 250, 248],\n",
       "         [250, 250, 248],\n",
       "         [249, 249, 247],\n",
       "         ...,\n",
       "         [248, 250, 249],\n",
       "         [248, 250, 249],\n",
       "         [248, 250, 249]]], dtype=uint8),\n",
       " array([[[248, 246, 247],\n",
       "         [248, 246, 247],\n",
       "         [246, 244, 245],\n",
       "         ...,\n",
       "         [230, 176, 190],\n",
       "         [237, 207, 217],\n",
       "         [232, 190, 204]],\n",
       " \n",
       "        [[248, 246, 247],\n",
       "         [251, 249, 250],\n",
       "         [247, 245, 246],\n",
       "         ...,\n",
       "         [227, 174, 190],\n",
       "         [227, 176, 191],\n",
       "         [237, 193, 206]],\n",
       " \n",
       "        [[248, 248, 248],\n",
       "         [247, 245, 246],\n",
       "         [250, 246, 247],\n",
       "         ...,\n",
       "         [233, 192, 210],\n",
       "         [235, 191, 206],\n",
       "         [243, 210, 219]],\n",
       " \n",
       "        ...,\n",
       " \n",
       "        [[248, 248, 248],\n",
       "         [247, 247, 247],\n",
       "         [248, 246, 249],\n",
       "         ...,\n",
       "         [249, 251, 250],\n",
       "         [250, 250, 250],\n",
       "         [249, 249, 249]],\n",
       " \n",
       "        [[246, 246, 244],\n",
       "         [246, 246, 244],\n",
       "         [247, 247, 247],\n",
       "         ...,\n",
       "         [249, 249, 249],\n",
       "         [247, 249, 248],\n",
       "         [248, 250, 249]],\n",
       " \n",
       "        [[247, 247, 245],\n",
       "         [249, 249, 247],\n",
       "         [247, 247, 247],\n",
       "         ...,\n",
       "         [249, 249, 249],\n",
       "         [248, 250, 249],\n",
       "         [248, 250, 249]]], dtype=uint8),\n",
       " array([[[248, 246, 247],\n",
       "         [246, 244, 245],\n",
       "         [251, 247, 248],\n",
       "         ...,\n",
       "         [233, 161, 181],\n",
       "         [233, 176, 193],\n",
       "         [237, 207, 217]],\n",
       " \n",
       "        [[248, 248, 248],\n",
       "         [250, 246, 247],\n",
       "         [251, 245, 247],\n",
       "         ...,\n",
       "         [224, 155, 174],\n",
       "         [188, 150, 171],\n",
       "         [235, 191, 206]],\n",
       " \n",
       "        [[247, 247, 247],\n",
       "         [251, 247, 246],\n",
       "         [248, 244, 243],\n",
       "         ...,\n",
       "         [226, 164, 185],\n",
       "         [229, 155, 180],\n",
       "         [223, 154, 175]],\n",
       " \n",
       "        ...,\n",
       " \n",
       "        [[244, 244, 244],\n",
       "         [248, 246, 247],\n",
       "         [249, 247, 248],\n",
       "         ...,\n",
       "         [248, 248, 248],\n",
       "         [248, 248, 248],\n",
       "         [249, 249, 249]],\n",
       " \n",
       "        [[247, 247, 247],\n",
       "         [248, 246, 249],\n",
       "         [247, 247, 245],\n",
       "         ...,\n",
       "         [246, 248, 247],\n",
       "         [248, 250, 249],\n",
       "         [249, 249, 249]],\n",
       " \n",
       "        [[246, 246, 244],\n",
       "         [247, 247, 247],\n",
       "         [247, 246, 244],\n",
       "         ...,\n",
       "         [247, 247, 247],\n",
       "         [250, 250, 250],\n",
       "         [247, 249, 248]]], dtype=uint8),\n",
       " array([[[248, 246, 247],\n",
       "         [251, 247, 248],\n",
       "         [250, 245, 242],\n",
       "         ...,\n",
       "         [220, 177, 194],\n",
       "         [236, 179, 198],\n",
       "         [233, 176, 193]],\n",
       " \n",
       "        [[247, 247, 247],\n",
       "         [248, 244, 243],\n",
       "         [248, 247, 245],\n",
       "         ...,\n",
       "         [234, 164, 188],\n",
       "         [231, 178, 194],\n",
       "         [229, 155, 180]],\n",
       " \n",
       "        [[247, 247, 247],\n",
       "         [250, 246, 247],\n",
       "         [243, 242, 240],\n",
       "         ...,\n",
       "         [233, 189, 202],\n",
       "         [221, 137, 163],\n",
       "         [196, 136, 164]],\n",
       " \n",
       "        ...,\n",
       " \n",
       "        [[240, 244, 243],\n",
       "         [186, 109, 143],\n",
       "         [ 97,  34,  51],\n",
       "         ...,\n",
       "         [248, 248, 248],\n",
       "         [248, 248, 248],\n",
       "         [248, 248, 248]],\n",
       " \n",
       "        [[245, 247, 246],\n",
       "         [246, 246, 246],\n",
       "         [146,  93, 123],\n",
       "         ...,\n",
       "         [249, 249, 249],\n",
       "         [247, 247, 247],\n",
       "         [249, 249, 247]],\n",
       " \n",
       "        [[247, 247, 247],\n",
       "         [247, 247, 245],\n",
       "         [247, 246, 244],\n",
       "         ...,\n",
       "         [249, 249, 249],\n",
       "         [249, 249, 249],\n",
       "         [248, 250, 249]]], dtype=uint8)]"
      ]
     },
     "execution_count": 24,
     "metadata": {},
     "output_type": "execute_result"
    }
   ],
   "source": [
    "original_pyr"
   ]
  },
  {
   "cell_type": "code",
   "execution_count": 25,
   "id": "c19702dd",
   "metadata": {},
   "outputs": [
    {
     "data": {
      "text/plain": [
       "<Image layer 'Original image' at 0x14ce7b1c0a90>"
      ]
     },
     "execution_count": 25,
     "metadata": {},
     "output_type": "execute_result"
    }
   ],
   "source": [
    "viewer.add_image(original_pyr, name='Original image')\n",
    "#viewer.add_image(original, name='Original image')"
   ]
  },
  {
   "cell_type": "code",
   "execution_count": 26,
   "id": "662890a8",
   "metadata": {},
   "outputs": [],
   "source": [
    "#optional\n",
    "if 'gt' in globals():\n",
    "    gt_pyr = uf.get_pyramid_hybrid_loading(gt, 1000, 200000)\n",
    "    viewer.add_labels(gt_pyr, name='Groundtruth', visible=False, color=int_to_rgb_dict,)"
   ]
  },
  {
   "cell_type": "code",
   "execution_count": 34,
   "id": "07e79161",
   "metadata": {},
   "outputs": [],
   "source": [
    "#optional\n",
    "if 'gt_45' in globals() and True:\n",
    "    gt_45_upsize = uf.upsize(gt_45, 45)\n",
    "    gt_45_pyr = uf.get_pyramid_hybrid_loading(gt_45_upsize, 1000, 200000)\n",
    "    viewer.add_labels(gt_45_pyr, name='Groundtruth_clusters', visible=False, color=df_colors_out)\n",
    "    \n",
    "    output_edges_gt_45 = nf.get_edges_of_cluster_shapes_with_partial_upscale(gt_45, rgb_gt_45, k=6,\n",
    "                                                                       partial_upscale = 5,\n",
    "                                                                       final_upscale = 45,\n",
    "                                                                      image_edges_drawn = True,\n",
    "                                                                      output_type='int')\n",
    "\n",
    "    pyr_cluster_edges_gt_45 = uf.get_pyramid_hybrid_loading(output_edges_gt_45, 1000, 200000)\n",
    "\n",
    "    viewer.add_labels(pyr_cluster_edges_gt_45, color = df_colors_out_no_zero, name='Groundtruth_edges', opacity=1)"
   ]
  },
  {
   "cell_type": "code",
   "execution_count": 28,
   "id": "d8d80b6c",
   "metadata": {},
   "outputs": [],
   "source": [
    "@njit\n",
    "def rgb2labelint_iterator(img, array_of_colors):\n",
    "    output = np.zeros((img.shape[0], img.shape[1]), dtype=img.dtype)\n",
    "    len_array_colors = len(array_of_colors)\n",
    "    for i in range(img.shape[0]):\n",
    "        for j in range(img.shape[1]):\n",
    "            for k in range(len_array_colors):\n",
    "                if np.all(np.equal(array_of_colors[k], img[i,j])):\n",
    "                    output[i,j] = k\n",
    "#            output[i,j] = np.argmax(np.all(np.equal(img[i,j], array_of_colors), axis=1))\n",
    "    return output\n",
    "    \n",
    "    \n",
    "def rgb2labelint(img, array_of_colors = None):\n",
    "    if array_of_colors is None:\n",
    "        array_of_colors = np.unique(myimg.reshape(-1, myimg.shape[2]), axis=0)\n",
    "    output = rgb2labelint_iterator(img, array_of_colors)\n",
    "    return output\n",
    "\n",
    "#intlabels = rgb2labelint(myimg, rgb_colors_with_inital_grey)\n",
    "#plt.figure(figsize=(25,5))\n",
    "#plt.imshow(intlabels)"
   ]
  },
  {
   "cell_type": "code",
   "execution_count": 35,
   "id": "fe78b84a",
   "metadata": {},
   "outputs": [],
   "source": [
    "partial_upscale = 10\n",
    "#this the partial upscale needed for creating the edges labels layer\n",
    "#the higher this number, the smoother the edges are displayed but the slower it takes\n",
    "final_upscale = int(patchsize / (final_target_size))\n",
    "    \n",
    "#This next part grays out the areas that are not part of clusters\n",
    "if True:\n",
    "    not_clusters_yet = nf.upsize(intlabels <= 1, patchsize)\n",
    "    pyr_not_clusters = uf.get_pyramid_hybrid_loading(not_clusters_yet, 1000, 2000000)\n",
    "    viewer.add_labels(pyr_not_clusters, color=dict_gray_out_colors, \n",
    "                      name='Part of any cluster', visible=False)\n",
    "\n",
    "#This next part creates a labels layer that shows the edges of the clusters\n",
    "if True:\n",
    "#    rgbalabels = nf.convert_rgb_to_rgba(rgblabels, transparent=np.array([255, 255, 255]), transparency_val = 255)\n",
    "    output_edges = nf.get_edges_of_cluster_shapes_with_partial_upscale(intlabels, rgblabels, k=4,\n",
    "                                                                       partial_upscale = partial_upscale,\n",
    "                                                                       final_upscale = final_upscale,\n",
    "                                                                      image_edges_drawn = True,\n",
    "                                                                      output_type='int')\n",
    "#    intlabels_partial_upsize = nf.upsize(intlabels, partial_upscale)\n",
    "#    rgblabels_partial_upsize = nf.upsize2(rgblabels, partial_upscale)\n",
    "\n",
    "#    output_edges = nf.get_edges_of_cluster_shapes(intlabels_partial_upsize, rgblabels_partial_upsize, k=4)\n",
    "#    output_edges_labels_for_int_layer = rgb2labelint(output_edges, rgb_colors_with_inital_grey)    \n",
    "#    output_edges_labels_for_int_layer_fullsize = nf.upsize(output_edges_labels_for_int_layer, further_upscale)\n",
    "\n",
    "#    pyr_cluster_edges = uf.get_pyramid_hybrid_loading(output_edges_labels_for_int_layer_fullsize, 2000, 2000000)\n",
    "#    pyr_cluster_edges = [output_edges[::i, ::i] for i in [1, 2, 4, 8, 16, 32]]\n",
    "    pyr_cluster_edges = uf.get_pyramid_hybrid_loading(output_edges, 1000, 200000)\n",
    "#    viewer.add_labels(pyr_cluster_edges, color=dict_colors_initial_transp_0to1, \n",
    "#                      name='Cluster edges', visible=False, opacity=1)\n",
    "    viewer.add_labels(pyr_cluster_edges, color = int_to_rgb_dict_no_zero, name='Our edges', opacity=1)\n",
    "\n",
    "#This next part shows the clusters as shaded patches\n",
    "if True:\n",
    "    intlabels_upsized = nf.upsize(intlabels, final_upscale)\n",
    "    intlabels_pyr = uf.get_pyramid_hybrid_loading(intlabels_upsized, 1000, 200000)\n",
    "    viewer.add_labels(intlabels_pyr, color=int_to_rgb_dict, \n",
    "                      name='Our clusters', opacity=0.2, visible=False)\n",
    "#    cluster_patches_int = rgb2labelint(rgblabels_partial_upsize, rgb_colors_with_inital_grey)\n",
    "#    cluster_patches_int_fullsize = nf.upsize(cluster_patches_int, further_upscale)\n",
    "#    img_clusters = uf.get_pyramid_hybrid_loading(cluster_patches_int_fullsize, 2000, 2000000)\n",
    "#    viewer.add_labels(img_clusters, color=dict_colors_initial_transp_0to1, \n",
    "#                      name='Shaded clusters', opacity=0.2)"
   ]
  }
 ],
 "metadata": {
  "kernelspec": {
   "display_name": "Python 3 (ipykernel)",
   "language": "python",
   "name": "python3"
  },
  "language_info": {
   "codemirror_mode": {
    "name": "ipython",
    "version": 3
   },
   "file_extension": ".py",
   "mimetype": "text/x-python",
   "name": "python",
   "nbconvert_exporter": "python",
   "pygments_lexer": "ipython3",
   "version": "3.8.0"
  }
 },
 "nbformat": 4,
 "nbformat_minor": 5
}
