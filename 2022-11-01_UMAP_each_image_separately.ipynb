{
 "cells": [
  {
   "cell_type": "markdown",
   "id": "99a49cdc",
   "metadata": {},
   "source": [
    "# UMAP each image separately\n"
   ]
  },
  {
   "cell_type": "code",
   "execution_count": 1,
   "id": "09b98732",
   "metadata": {},
   "outputs": [
    {
     "name": "stdout",
     "output_type": "stream",
     "text": [
      "Loading Linux\n"
     ]
    }
   ],
   "source": [
    "import matplotlib.pyplot as plt\n",
    "import numpy as np\n",
    "import math\n",
    "from PIL import Image\n",
    "import cv2\n",
    "import skimage\n",
    "import tifffile as tf\n",
    "import os\n",
    "import pandas as pd\n",
    "#import napari\n",
    "#print(napari.__version__)\n",
    "#from dask_image.imread import imread\n",
    "#import dask.array as da\n",
    "#import io\n",
    "\n",
    "import platform\n",
    "if platform.system() == 'Windows':\n",
    "    fileroot = 'X:/'\n",
    "    print('Loading Windows')\n",
    "if platform.system() == 'Linux':\n",
    "    fileroot = '/home/jovyan/'\n",
    "    print('Loading Linux')\n",
    "if False:\n",
    "    fileroot = '/home/ubuntu/Documents/'\n",
    "if os.path.exists('/nfs/team283_imaging/') and not os.path.exists('/home/jovyan/'):\n",
    "    fileroot = '/nfs/team283_imaging/'\n",
    "\n",
    "colors_new=['#0072b2','#d55e00','#009e73', '#cc79a7','#f0e442','#56b4e9']\n",
    "\n",
    "import sys\n",
    "sys.path.append(fileroot+'VU_TEX/Ben_utilities/')\n",
    "import useful_functions as uf\n",
    "import numba_funcs as nf"
   ]
  },
  {
   "cell_type": "code",
   "execution_count": 2,
   "id": "0cd7702b",
   "metadata": {},
   "outputs": [],
   "source": [
    "import scanpy as sc\n",
    "import anndata as ad\n",
    "import numpy as np\n",
    "import pandas as pd\n",
    "import matplotlib.pyplot as plt\n",
    "import matplotlib as mpl\n",
    "from copy import deepcopy\n",
    "from tqdm import tqdm, trange\n",
    "from matplotlib.colors import to_rgba\n",
    "#import hdbscan\n",
    "import umap\n",
    "from tqdm import tqdm, trange\n",
    "import fastremap\n",
    "import matplotlib.patches as mpatches\n",
    "from matplotlib.lines import Line2D\n",
    "from datetime import datetime\n",
    "from sklearn.preprocessing import StandardScaler\n",
    "from numba import njit\n",
    "import scipy\n",
    "import pickle"
   ]
  },
  {
   "cell_type": "code",
   "execution_count": 3,
   "id": "4907d9ab",
   "metadata": {},
   "outputs": [],
   "source": [
    "import seaborn as sns"
   ]
  },
  {
   "cell_type": "code",
   "execution_count": 4,
   "id": "07e766e1",
   "metadata": {},
   "outputs": [],
   "source": [
    "pd.set_option('display.max_rows', 40)\n",
    "pd.set_option('display.max_columns', 100)"
   ]
  },
  {
   "cell_type": "markdown",
   "id": "82c4be21",
   "metadata": {},
   "source": [
    "### Load data"
   ]
  },
  {
   "cell_type": "code",
   "execution_count": 5,
   "id": "cab3d82b",
   "metadata": {
    "scrolled": true
   },
   "outputs": [
    {
     "data": {
      "text/html": [
       "<div>\n",
       "<style scoped>\n",
       "    .dataframe tbody tr th:only-of-type {\n",
       "        vertical-align: middle;\n",
       "    }\n",
       "\n",
       "    .dataframe tbody tr th {\n",
       "        vertical-align: top;\n",
       "    }\n",
       "\n",
       "    .dataframe thead th {\n",
       "        text-align: right;\n",
       "    }\n",
       "</style>\n",
       "<table border=\"1\" class=\"dataframe\">\n",
       "  <thead>\n",
       "    <tr style=\"text-align: right;\">\n",
       "      <th></th>\n",
       "      <th>original_index</th>\n",
       "      <th>output_filename</th>\n",
       "      <th>image_width</th>\n",
       "      <th>image_height</th>\n",
       "    </tr>\n",
       "  </thead>\n",
       "  <tbody>\n",
       "    <tr>\n",
       "      <th>0</th>\n",
       "      <td>0</td>\n",
       "      <td>V11J11-099__Z4_FO3_01__A1_small.tif</td>\n",
       "      <td>5539</td>\n",
       "      <td>3739</td>\n",
       "    </tr>\n",
       "  </tbody>\n",
       "</table>\n",
       "</div>"
      ],
      "text/plain": [
       "   original_index                      output_filename  image_width   \n",
       "0               0  V11J11-099__Z4_FO3_01__A1_small.tif         5539  \\\n",
       "\n",
       "   image_height  \n",
       "0          3739  "
      ]
     },
     "execution_count": 5,
     "metadata": {},
     "output_type": "execute_result"
    }
   ],
   "source": [
    "#directory_images_metadata = fileroot + 'team283_imaging/' + '0ExternalData/2022-09-01_IVY_GAP/'\n",
    "#directory_images_metadata = fileroot + '0ExternalData/2022-09-01_IVY_GAP/'\n",
    "#filename_images_metadata = '2022-09-01_IVY_GAP_metadata.csv'\n",
    "#df_images_metadata = pd.read_csv(directory_images_metadata + filename_images_metadata, index_col=0)\n",
    "#df_images_metadata = df_images_metadata.loc[df_images_metadata['original_index'].isin([50, 594, 406, 418, \n",
    "#267, 290, 474, 231, 498, 217, \n",
    "#309, 544])]\n",
    "#df_images_metadata\n",
    "directory_originals = [fileroot + 'VU_TEX/playground_Ben/2023-07-05_Thymus/2023-07-06d_image_conversion_and_crop_to_small_version/']\n",
    "filenames_originals = ['V11J11-099__Z4_FO3_01__A1_small.tif']\n",
    "fullpaths_originals = [directory_originals[0] + filenames_originals[0]]\n",
    "\n",
    "df_images_metadata = pd.DataFrame({'original_index': [0], 'output_filename':filenames_originals, \n",
    "                                 })\n",
    "this_shape = skimage.io.imread(fullpaths_originals[0]).shape\n",
    "df_images_metadata['image_width'] = this_shape[0]\n",
    "df_images_metadata['image_height'] = this_shape[1]\n",
    "df_images_metadata"
   ]
  },
  {
   "cell_type": "code",
   "execution_count": 6,
   "id": "ed194157",
   "metadata": {},
   "outputs": [],
   "source": [
    "#directory_colors_metadata = fileroot + 'team283_imaging/' + '0ExternalData/2022-09-01_IVY_GAP/'\n",
    "#directory_colors_metadata = fileroot + '0ExternalData/2022-09-01_IVY_GAP/'\n",
    "#filename_colors_metadata = '2022-09-02_colors_for_IVY_GAP.csv'\n",
    "#df_colors = pd.read_csv(directory_colors_metadata + filename_colors_metadata, index_col=0)\n",
    "#df_colors\n",
    "\n",
    "#mycolors = uf.return_color_scale('block_colors_for_labels_against_white_small_points')"
   ]
  },
  {
   "cell_type": "code",
   "execution_count": 7,
   "id": "78aa3c8d",
   "metadata": {
    "scrolled": false
   },
   "outputs": [],
   "source": [
    "#for i, each in enumerate(df_colors['colorblind_optimized']):\n",
    "#    print(i)\n",
    "#    uf.make_Ramp_flexible([each, each])\n",
    "#    plt.show()"
   ]
  },
  {
   "cell_type": "code",
   "execution_count": 8,
   "id": "dbf41011",
   "metadata": {},
   "outputs": [
    {
     "data": {
      "image/png": "[encoded data removed]",
      "text/plain": [
       "<Figure size 1500x300 with 1 Axes>"
      ]
     },
     "metadata": {},
     "output_type": "display_data"
    },
    {
     "data": {
      "image/png": "[encoded data removed]",
      "text/plain": [
       "<Figure size 1500x300 with 1 Axes>"
      ]
     },
     "metadata": {},
     "output_type": "display_data"
    },
    {
     "data": {
      "image/png": "[encoded data removed]",
      "text/plain": [
       "<Figure size 1500x300 with 1 Axes>"
      ]
     },
     "metadata": {},
     "output_type": "display_data"
    },
    {
     "data": {
      "image/png": "[encoded data removed]",
      "text/plain": [
       "<Figure size 1500x300 with 1 Axes>"
      ]
     },
     "metadata": {},
     "output_type": "display_data"
    },
    {
     "data": {
      "image/png": "[encoded data removed]",
      "text/plain": [
       "<Figure size 1500x300 with 1 Axes>"
      ]
     },
     "metadata": {},
     "output_type": "display_data"
    },
    {
     "data": {
      "image/png": "[encoded data removed]",
      "text/plain": [
       "<Figure size 1500x300 with 1 Axes>"
      ]
     },
     "metadata": {},
     "output_type": "display_data"
    },
    {
     "data": {
      "image/png": "[encoded data removed]",
      "text/plain": [
       "<Figure size 1500x300 with 1 Axes>"
      ]
     },
     "metadata": {},
     "output_type": "display_data"
    },
    {
     "data": {
      "image/png": "[encoded data removed]",
      "text/plain": [
       "<Figure size 1500x300 with 1 Axes>"
      ]
     },
     "metadata": {},
     "output_type": "display_data"
    },
    {
     "data": {
      "image/png": "[encoded data removed]",
      "text/plain": [
       "<Figure size 1500x300 with 1 Axes>"
      ]
     },
     "metadata": {},
     "output_type": "display_data"
    },
    {
     "data": {
      "image/png": "[encoded data removed]",
      "text/plain": [
       "<Figure size 1500x300 with 1 Axes>"
      ]
     },
     "metadata": {},
     "output_type": "display_data"
    },
    {
     "data": {
      "image/png": "[encoded data removed]",
      "text/plain": [
       "<Figure size 1500x300 with 1 Axes>"
      ]
     },
     "metadata": {},
     "output_type": "display_data"
    },
    {
     "data": {
      "image/png": "[encoded data removed]",
      "text/plain": [
       "<Figure size 1500x300 with 1 Axes>"
      ]
     },
     "metadata": {},
     "output_type": "display_data"
    },
    {
     "data": {
      "image/png": "[encoded data removed]",
      "text/plain": [
       "<Figure size 1500x300 with 1 Axes>"
      ]
     },
     "metadata": {},
     "output_type": "display_data"
    },
    {
     "data": {
      "image/png": "[encoded data removed]",
      "text/plain": [
       "<Figure size 1500x300 with 1 Axes>"
      ]
     },
     "metadata": {},
     "output_type": "display_data"
    }
   ],
   "source": [
    "#mycolors = list(df_colors['colorblind_optimized'])\n",
    "mycolors = uf.return_color_scale('block_colors_for_labels_against_white_small_points')"
   ]
  },
  {
   "cell_type": "code",
   "execution_count": 9,
   "id": "01df1901",
   "metadata": {},
   "outputs": [],
   "source": [
    "#directory_X = fileroot + 'VU_TEX/playground_Ben/2022-08-26_IVY_GAP/2022-09-23_LBP_tiled_pipeline/'\n",
    "#filename_X = '2022-10-13_LBP_all_images_data_X_up_to_radius_34.npy'\n",
    "#X = np.load(directory_X + filename_X, mmap_mode='r')"
   ]
  },
  {
   "cell_type": "code",
   "execution_count": 10,
   "id": "1b413a22",
   "metadata": {},
   "outputs": [
    {
     "data": {
      "text/plain": [
       "((2035, 6051), dtype('uint16'))"
      ]
     },
     "execution_count": 10,
     "metadata": {},
     "output_type": "execute_result"
    }
   ],
   "source": [
    "directory_X_scaled = ''\n",
    "#directory_X_scaled = '/lustre/scratch117/cellgen/team283/bw17/VU_TEX/playground_Ben/2022-08-26_IVY_GAP/2022-09-23_LBP_tiled_pipeline/'\n",
    "filename_X_scaled = '2023-07-07_LBP_all_images_data_X.npy'\n",
    "X = np.load(directory_X_scaled + filename_X_scaled, mmap_mode='r')\n",
    "X.shape, X.dtype"
   ]
  },
  {
   "cell_type": "code",
   "execution_count": 11,
   "id": "c243fbb6",
   "metadata": {
    "scrolled": true
   },
   "outputs": [
    {
     "name": "stdout",
     "output_type": "stream",
     "text": [
      "2023-07-07 13:52:55.429308\n"
     ]
    },
    {
     "data": {
      "text/html": [
       "<div>\n",
       "<style scoped>\n",
       "    .dataframe tbody tr th:only-of-type {\n",
       "        vertical-align: middle;\n",
       "    }\n",
       "\n",
       "    .dataframe tbody tr th {\n",
       "        vertical-align: top;\n",
       "    }\n",
       "\n",
       "    .dataframe thead th {\n",
       "        text-align: right;\n",
       "    }\n",
       "</style>\n",
       "<table border=\"1\" class=\"dataframe\">\n",
       "  <thead>\n",
       "    <tr style=\"text-align: right;\">\n",
       "      <th></th>\n",
       "      <th>this_image_index</th>\n",
       "      <th>X0</th>\n",
       "      <th>X1</th>\n",
       "      <th>Groundtruth</th>\n",
       "      <th>original_index</th>\n",
       "      <th>output_filename</th>\n",
       "    </tr>\n",
       "  </thead>\n",
       "  <tbody>\n",
       "    <tr>\n",
       "      <th>0</th>\n",
       "      <td>0</td>\n",
       "      <td>0</td>\n",
       "      <td>0</td>\n",
       "      <td>0.0</td>\n",
       "      <td>0</td>\n",
       "      <td>V11J11-099__Z4_FO3_01__A1_small.tif</td>\n",
       "    </tr>\n",
       "    <tr>\n",
       "      <th>1</th>\n",
       "      <td>1</td>\n",
       "      <td>0</td>\n",
       "      <td>1</td>\n",
       "      <td>0.0</td>\n",
       "      <td>0</td>\n",
       "      <td>V11J11-099__Z4_FO3_01__A1_small.tif</td>\n",
       "    </tr>\n",
       "    <tr>\n",
       "      <th>2</th>\n",
       "      <td>2</td>\n",
       "      <td>0</td>\n",
       "      <td>2</td>\n",
       "      <td>0.0</td>\n",
       "      <td>0</td>\n",
       "      <td>V11J11-099__Z4_FO3_01__A1_small.tif</td>\n",
       "    </tr>\n",
       "    <tr>\n",
       "      <th>3</th>\n",
       "      <td>3</td>\n",
       "      <td>0</td>\n",
       "      <td>3</td>\n",
       "      <td>0.0</td>\n",
       "      <td>0</td>\n",
       "      <td>V11J11-099__Z4_FO3_01__A1_small.tif</td>\n",
       "    </tr>\n",
       "    <tr>\n",
       "      <th>4</th>\n",
       "      <td>4</td>\n",
       "      <td>0</td>\n",
       "      <td>4</td>\n",
       "      <td>0.0</td>\n",
       "      <td>0</td>\n",
       "      <td>V11J11-099__Z4_FO3_01__A1_small.tif</td>\n",
       "    </tr>\n",
       "    <tr>\n",
       "      <th>...</th>\n",
       "      <td>...</td>\n",
       "      <td>...</td>\n",
       "      <td>...</td>\n",
       "      <td>...</td>\n",
       "      <td>...</td>\n",
       "      <td>...</td>\n",
       "    </tr>\n",
       "    <tr>\n",
       "      <th>2030</th>\n",
       "      <td>2030</td>\n",
       "      <td>54</td>\n",
       "      <td>32</td>\n",
       "      <td>0.0</td>\n",
       "      <td>0</td>\n",
       "      <td>V11J11-099__Z4_FO3_01__A1_small.tif</td>\n",
       "    </tr>\n",
       "    <tr>\n",
       "      <th>2031</th>\n",
       "      <td>2031</td>\n",
       "      <td>54</td>\n",
       "      <td>33</td>\n",
       "      <td>0.0</td>\n",
       "      <td>0</td>\n",
       "      <td>V11J11-099__Z4_FO3_01__A1_small.tif</td>\n",
       "    </tr>\n",
       "    <tr>\n",
       "      <th>2032</th>\n",
       "      <td>2032</td>\n",
       "      <td>54</td>\n",
       "      <td>34</td>\n",
       "      <td>0.0</td>\n",
       "      <td>0</td>\n",
       "      <td>V11J11-099__Z4_FO3_01__A1_small.tif</td>\n",
       "    </tr>\n",
       "    <tr>\n",
       "      <th>2033</th>\n",
       "      <td>2033</td>\n",
       "      <td>54</td>\n",
       "      <td>35</td>\n",
       "      <td>0.0</td>\n",
       "      <td>0</td>\n",
       "      <td>V11J11-099__Z4_FO3_01__A1_small.tif</td>\n",
       "    </tr>\n",
       "    <tr>\n",
       "      <th>2034</th>\n",
       "      <td>2034</td>\n",
       "      <td>54</td>\n",
       "      <td>36</td>\n",
       "      <td>0.0</td>\n",
       "      <td>0</td>\n",
       "      <td>V11J11-099__Z4_FO3_01__A1_small.tif</td>\n",
       "    </tr>\n",
       "  </tbody>\n",
       "</table>\n",
       "<p>2035 rows × 6 columns</p>\n",
       "</div>"
      ],
      "text/plain": [
       "      this_image_index  X0  X1 Groundtruth original_index   \n",
       "0                    0   0   0         0.0              0  \\\n",
       "1                    1   0   1         0.0              0   \n",
       "2                    2   0   2         0.0              0   \n",
       "3                    3   0   3         0.0              0   \n",
       "4                    4   0   4         0.0              0   \n",
       "...                ...  ..  ..         ...            ...   \n",
       "2030              2030  54  32         0.0              0   \n",
       "2031              2031  54  33         0.0              0   \n",
       "2032              2032  54  34         0.0              0   \n",
       "2033              2033  54  35         0.0              0   \n",
       "2034              2034  54  36         0.0              0   \n",
       "\n",
       "                          output_filename  \n",
       "0     V11J11-099__Z4_FO3_01__A1_small.tif  \n",
       "1     V11J11-099__Z4_FO3_01__A1_small.tif  \n",
       "2     V11J11-099__Z4_FO3_01__A1_small.tif  \n",
       "3     V11J11-099__Z4_FO3_01__A1_small.tif  \n",
       "4     V11J11-099__Z4_FO3_01__A1_small.tif  \n",
       "...                                   ...  \n",
       "2030  V11J11-099__Z4_FO3_01__A1_small.tif  \n",
       "2031  V11J11-099__Z4_FO3_01__A1_small.tif  \n",
       "2032  V11J11-099__Z4_FO3_01__A1_small.tif  \n",
       "2033  V11J11-099__Z4_FO3_01__A1_small.tif  \n",
       "2034  V11J11-099__Z4_FO3_01__A1_small.tif  \n",
       "\n",
       "[2035 rows x 6 columns]"
      ]
     },
     "metadata": {},
     "output_type": "display_data"
    },
    {
     "data": {
      "text/plain": [
       "datetime.timedelta(microseconds=25649)"
      ]
     },
     "execution_count": 11,
     "metadata": {},
     "output_type": "execute_result"
    }
   ],
   "source": [
    "start = datetime.now(); print(start)\n",
    "directory_OBS = ''\n",
    "filename_OBS = '2023-07-07_LBP_all_images_data_OBS.csv'\n",
    "df_OBS = pd.read_csv(directory_OBS + filename_OBS, index_col=0)\n",
    "df_OBS['Groundtruth'] = pd.Categorical(df_OBS['Groundtruth'])\n",
    "df_OBS['original_index'] = pd.Categorical(df_OBS['original_index'])\n",
    "display(df_OBS)\n",
    "datetime.now()-start"
   ]
  },
  {
   "cell_type": "code",
   "execution_count": 12,
   "id": "45c923d2",
   "metadata": {},
   "outputs": [
    {
     "data": {
      "text/plain": [
       "[0]\n",
       "Categories (1, int64): [0]"
      ]
     },
     "execution_count": 12,
     "metadata": {},
     "output_type": "execute_result"
    }
   ],
   "source": [
    "pd.unique(df_OBS['original_index'])"
   ]
  },
  {
   "cell_type": "code",
   "execution_count": 13,
   "id": "7e0998b3",
   "metadata": {},
   "outputs": [
    {
     "data": {
      "text/html": [
       "<div>\n",
       "<style scoped>\n",
       "    .dataframe tbody tr th:only-of-type {\n",
       "        vertical-align: middle;\n",
       "    }\n",
       "\n",
       "    .dataframe tbody tr th {\n",
       "        vertical-align: top;\n",
       "    }\n",
       "\n",
       "    .dataframe thead th {\n",
       "        text-align: right;\n",
       "    }\n",
       "</style>\n",
       "<table border=\"1\" class=\"dataframe\">\n",
       "  <thead>\n",
       "    <tr style=\"text-align: right;\">\n",
       "      <th></th>\n",
       "      <th>0</th>\n",
       "    </tr>\n",
       "  </thead>\n",
       "  <tbody>\n",
       "    <tr>\n",
       "      <th>0</th>\n",
       "      <td>Ch_0_METHOD_uniform_npoints_7_radius_1_value_0</td>\n",
       "    </tr>\n",
       "    <tr>\n",
       "      <th>1</th>\n",
       "      <td>Ch_0_METHOD_uniform_npoints_7_radius_1_value_1</td>\n",
       "    </tr>\n",
       "    <tr>\n",
       "      <th>2</th>\n",
       "      <td>Ch_0_METHOD_uniform_npoints_7_radius_1_value_2</td>\n",
       "    </tr>\n",
       "    <tr>\n",
       "      <th>3</th>\n",
       "      <td>Ch_0_METHOD_uniform_npoints_7_radius_1_value_3</td>\n",
       "    </tr>\n",
       "    <tr>\n",
       "      <th>4</th>\n",
       "      <td>Ch_0_METHOD_uniform_npoints_7_radius_1_value_4</td>\n",
       "    </tr>\n",
       "    <tr>\n",
       "      <th>...</th>\n",
       "      <td>...</td>\n",
       "    </tr>\n",
       "    <tr>\n",
       "      <th>6046</th>\n",
       "      <td>Ch_2_METHOD_uniform_npoints_497_radius_79_valu...</td>\n",
       "    </tr>\n",
       "    <tr>\n",
       "      <th>6047</th>\n",
       "      <td>Ch_2_METHOD_uniform_npoints_497_radius_79_valu...</td>\n",
       "    </tr>\n",
       "    <tr>\n",
       "      <th>6048</th>\n",
       "      <td>Ch_2_METHOD_uniform_npoints_497_radius_79_valu...</td>\n",
       "    </tr>\n",
       "    <tr>\n",
       "      <th>6049</th>\n",
       "      <td>Ch_2_METHOD_uniform_npoints_497_radius_79_valu...</td>\n",
       "    </tr>\n",
       "    <tr>\n",
       "      <th>6050</th>\n",
       "      <td>Ch_2_METHOD_uniform_npoints_497_radius_79_valu...</td>\n",
       "    </tr>\n",
       "  </tbody>\n",
       "</table>\n",
       "<p>6051 rows × 1 columns</p>\n",
       "</div>"
      ],
      "text/plain": [
       "                                                      0\n",
       "0        Ch_0_METHOD_uniform_npoints_7_radius_1_value_0\n",
       "1        Ch_0_METHOD_uniform_npoints_7_radius_1_value_1\n",
       "2        Ch_0_METHOD_uniform_npoints_7_radius_1_value_2\n",
       "3        Ch_0_METHOD_uniform_npoints_7_radius_1_value_3\n",
       "4        Ch_0_METHOD_uniform_npoints_7_radius_1_value_4\n",
       "...                                                 ...\n",
       "6046  Ch_2_METHOD_uniform_npoints_497_radius_79_valu...\n",
       "6047  Ch_2_METHOD_uniform_npoints_497_radius_79_valu...\n",
       "6048  Ch_2_METHOD_uniform_npoints_497_radius_79_valu...\n",
       "6049  Ch_2_METHOD_uniform_npoints_497_radius_79_valu...\n",
       "6050  Ch_2_METHOD_uniform_npoints_497_radius_79_valu...\n",
       "\n",
       "[6051 rows x 1 columns]"
      ]
     },
     "execution_count": 13,
     "metadata": {},
     "output_type": "execute_result"
    }
   ],
   "source": [
    "directory_VAR = ''\n",
    "filename_VAR = '2023-07-07_LBP_all_images_data_VAR.csv'\n",
    "df_VAR = pd.read_csv(directory_VAR + filename_VAR, index_col=0)\n",
    "df_VAR.index = df_VAR.index.astype(str)\n",
    "df_VAR"
   ]
  },
  {
   "cell_type": "code",
   "execution_count": 14,
   "id": "6cb439de",
   "metadata": {},
   "outputs": [],
   "source": [
    "dict_colors = {0:to_rgba(mycolors[0]), \n",
    "               1:to_rgba(mycolors[1]), \n",
    "               2:to_rgba(mycolors[2]),\n",
    "               3:to_rgba(mycolors[3]),\n",
    "               4:to_rgba(mycolors[4]),\n",
    "               5:to_rgba(mycolors[5]),\n",
    "               6:to_rgba(mycolors[6]),\n",
    "               7:to_rgba(mycolors[7]),\n",
    "               8:to_rgba(mycolors[8]),\n",
    "               9:to_rgba(mycolors[9]),\n",
    "              np.nan:(1, 1, 1)\n",
    "              }\n",
    "\n",
    "dict_color_names = {0:mycolors[0], \n",
    "               1:mycolors[1], \n",
    "               2:mycolors[2],\n",
    "               3:mycolors[3],\n",
    "               4:mycolors[4],\n",
    "                5:mycolors[5],\n",
    "               6:mycolors[6],\n",
    "                7:mycolors[7],\n",
    "               8:mycolors[8],\n",
    "                  9:mycolors[9],  \n",
    "              np.nan:(1, 1, 1)\n",
    "                   }\n",
    "\n",
    "#mycolors_list_all = anndata_concat.obs['Groundtruth'].map(dict_color_names)\n",
    "#mycolors_list_all_ilastik = df_all['Pathology'].map(dict_color_names)\n",
    "#mycolors_list_all"
   ]
  },
  {
   "cell_type": "code",
   "execution_count": 15,
   "id": "fe22a584",
   "metadata": {
    "scrolled": false
   },
   "outputs": [
    {
     "name": "stderr",
     "output_type": "stream",
     "text": [
      "\r",
      "  0%|                                                                                                         | 0/1 [00:00<?, ?it/s]"
     ]
    },
    {
     "name": "stdout",
     "output_type": "stream",
     "text": [
      "2035\n"
     ]
    },
    {
     "name": "stderr",
     "output_type": "stream",
     "text": [
      "/opt/conda/envs/lbp3c/lib/python3.8/site-packages/scanpy/plotting/_tools/scatterplots.py:392: UserWarning: No data for colormapping provided via 'c'. Parameters 'cmap' will be ignored\n",
      "  cax = scatter(\n",
      "/opt/conda/envs/lbp3c/lib/python3.8/site-packages/scanpy/plotting/_tools/scatterplots.py:392: UserWarning: No data for colormapping provided via 'c'. Parameters 'cmap' will be ignored\n",
      "  cax = scatter(\n"
     ]
    },
    {
     "data": {
      "image/png": "[encoded data removed]",
      "text/plain": [
       "<Figure size 1700x400 with 3 Axes>"
      ]
     },
     "metadata": {},
     "output_type": "display_data"
    },
    {
     "name": "stderr",
     "output_type": "stream",
     "text": [
      "100%|█████████████████████████████████████████████████████████████████████████████████████████████████| 1/1 [00:06<00:00,  6.51s/it]\n"
     ]
    }
   ],
   "source": [
    "for img_original_index in tqdm([0]):\n",
    "    list_of_index_img0 = df_OBS.index[(df_OBS['original_index'].isin([img_original_index])) &\n",
    "                                 (~df_OBS['Groundtruth'].isin([]))]\n",
    "    print(len(list_of_index_img0))\n",
    "    this_df = df_OBS.loc[list_of_index_img0]\n",
    "    this_df.index = this_df.index.astype(str)\n",
    "    anndata_concat = ad.AnnData(X=X[list_of_index_img0], obs=this_df, var=df_VAR, dtype=np.float32)\n",
    "    Groundtruth_vc = anndata_concat.obs['Groundtruth'].value_counts()\n",
    "    anndata_concat.obs['Groundtruth'] = anndata_concat.obs['Groundtruth'].cat.set_categories(list(Groundtruth_vc.index[Groundtruth_vc > 0]))\n",
    "    sc.pp.scale(anndata_concat)\n",
    "    \n",
    "    z = [dict_colors[each] for each in list(anndata_concat.obs['Groundtruth'].value_counts().index)]\n",
    "    fig, ax = plt.subplots(1,3, figsize=(17,4))\n",
    "    Groundtruth_vc.plot(kind='pie', colors=z, ax=ax[0])\n",
    "    sc.tl.pca(anndata_concat, svd_solver='auto')\n",
    "    sc.pl.pca(anndata_concat, color='Groundtruth',\n",
    "                 size=1, palette=dict_colors, components=['1,2'], ax=ax[1], show=False, title='')\n",
    "    sc.pp.neighbors(anndata_concat, n_neighbors=5, n_pcs=None)\n",
    "    sc.tl.umap(anndata_concat) #, min_dist=0.0\n",
    "    sc.pl.umap(anndata_concat, color=['Groundtruth'],          \n",
    "         palette=dict_colors, show=False, alpha=1, ax=ax[2], title='')\n",
    "    plt.suptitle('Image original_index = ' + str(img_original_index))\n",
    "    plt.subplots_adjust(wspace=0.3)\n",
    "    plt.show()\n",
    "#    break"
   ]
  }
 ],
 "metadata": {
  "kernelspec": {
   "display_name": "Python 3 (ipykernel)",
   "language": "python",
   "name": "python3"
  },
  "language_info": {
   "codemirror_mode": {
    "name": "ipython",
    "version": 3
   },
   "file_extension": ".py",
   "mimetype": "text/x-python",
   "name": "python",
   "nbconvert_exporter": "python",
   "pygments_lexer": "ipython3",
   "version": "3.8.0"
  }
 },
 "nbformat": 4,
 "nbformat_minor": 5
}
